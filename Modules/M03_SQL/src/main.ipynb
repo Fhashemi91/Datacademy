{
 "cells": [
  {
   "cell_type": "markdown",
   "metadata": {},
   "source": [
    "<h1> Data Science Bootcamp Module 3 - Structured Query Language </h1>\n",
    "<hr>\n",
    "\n",
    "<p>\n",
    "    Throughout this module you will learn to work with the programming language SQL. <br>\n",
    "    To start working with SQLite in VSCode, first install the SQLite extension using the extension tab on the left. <br>\n",
    "    You will be working with a simple database consisting of three tables, which are comprised of the following columns:\n",
    "    <ol>\n",
    "        <li>\n",
    "            <b><u>customers</u></b>\n",
    "            <ul>\n",
    "                <li> <b>id</b>: The unique ID reference of the customer. </li>\n",
    "                <li> <b>firstName</b>: The first name of the customer. </li>\n",
    "                <li> <b>lastName</b>: The last name of the customer. </li>\n",
    "                <li> <b>address</b>: The street name and house number of the customer. </li>\n",
    "            </ul>\n",
    "        </li>\n",
    "        <br>\n",
    "        <li>\n",
    "            <b><u>products</u></b>\n",
    "            <ul>\n",
    "                <li> <b>id</b>: The unique ID reference of the product. </li>\n",
    "                <li> <b>name</b>: The name of the product, as displayed to the customer. </li>\n",
    "                <li> <b>price</b>: The purchase price of the product. </li>\n",
    "                <li> <b>stock</b>: The amount of products currently in stock. </li>\n",
    "            </ul>\n",
    "        </li>\n",
    "        <br>\n",
    "        <li>\n",
    "            <b><u>orders</u></b>\n",
    "            <ul>\n",
    "                <li><b>id</b>: The unique ID reference of the order. </li>\n",
    "                <li><b>customerId</b>: The ID reference of the customer that placed the order. </li>\n",
    "                <li><b>productId</b>: The ID reference of the product the order is placed for. </li>\n",
    "                <li><b>date</b>: The date the order is placed on. </li>\n",
    "                <li><b>quantity</b>: The amount of the given product purchased. </li>\n",
    "            </ul>\n",
    "        </li>\n",
    "    </ol>\n",
    "</p>"
   ]
  },
  {
   "cell_type": "markdown",
   "metadata": {},
   "source": [
    "<hr>\n",
    "<h3>A. Import libraries and create database. </h3>\n",
    "<p>\n",
    "Before starting to write your own SQL queries, we first have to set up the environment. <br>\n",
    "First, make sure that you selected the correct kernel on the top right of the screen. <br>\n",
    "This will allow you to import the libraries to execute the code below. <br>\n",
    "<br>\n",
    "As we will work with some pre-written code, we will have to manage our references to other directories. <br>\n",
    "When you run this file it will be run from within the current directory, namely: <i>datacademy_demo.Modules.M3_SQL.src</i>. <br>\n",
    "From this directory we cannot reach the <i>datacademy_demo.Modules.M3_SQL.libs</i> directory, which we need for the pre-written code. <br>\n",
    "What we should do is change our so-called <i>working directory</i>, which we will do through some command line code. <br>\n",
    "The first row in the code cell below does this, through running the command line (cd) code <code>%cd ../../..</code>. <br>\n",
    "<code>%cd</code> refers to the type of language used, where every <code>..</code> results in going up one directory in our directory tree. <br>\n",
    "One up and we are in <i>M3_SQL</i>, another one and we are in <i>Modules</i> and after the third we are in the main directory <i>datacademy_demo</i>. <br>\n",
    "We could have only gone up one directory, as this would allow us to use the <i>libs</i>, however it is good practice to work from within the main directory. <br>\n",
    "<br>\n",
    "Now that we have explained the directory referencing, we can start importing the database code from the <i>libs</i> directory. <br>\n",
    "As we work from the main directory (<i>datacademy_demo</i>) we have to import this file using <code>Modules.M3_SQL.libs.database</code>. <br>\n",
    "From this file we will import a class named <code>Database</code>, which upon running will construct a new database and a database object. <br>\n",
    "The Database object is called \"db\", which also allows you to write and execute queries. <br>\n",
    "To write queries you simple execute the code: <code>db.execute_query(<i>[YOUR QUERY HERE]</i>)</code>.\n",
    "</p>"
   ]
  },
  {
   "cell_type": "code",
   "execution_count": null,
   "metadata": {},
   "outputs": [],
   "source": [
    "%cd ../../..\n",
    "from Modules.M03_SQL.libs.database import Database\n",
    "db = Database()"
   ]
  },
  {
   "cell_type": "markdown",
   "metadata": {},
   "source": [
    "<hr>\n",
    "<h3> B. Basic operations </h3>\n",
    "<p>\n",
    "First we will explore the basic operations, namely SELECT, FROM, WHERE and LIMIT. <br>\n",
    "These operations form the base of most queries that you will write in the future, as they are most fundamental to the retrieval of data. <br>\n",
    "The operations and their functionality will be listed below:\n",
    "<ul>\n",
    "    <li> <b>SELECT</b> - Defines the column values that you desired to retrieve. </li>\n",
    "    <li> <b>FROM</b> - Defines the table from which these values need to be retrieved. </li>\n",
    "    <li> <b>WHERE</b> - Defines the condition(s) that will affect which rows are returned. </li>\n",
    "    <li> <b>LIMIT</b> - Defines the number of rows that are returned. </li>\n",
    "    <li> <b>ORDER BY</b> - Defines the way the records that are returned will be sorted. </li>\n",
    "</ul>\n",
    "In this module you will explore the functionalities of these operators using the just created database. <br>\n",
    "The tables and their columns are described in the beginning of this notebook, which description can be used throughout the exercises below.\n",
    "</p>"
   ]
  },
  {
   "cell_type": "markdown",
   "metadata": {},
   "source": [
    "<p>\n",
    "The first queries you will write are simple retrieval queries, which only use the <b> SELECT </b> and <b> FROM </b> operators. <br>\n",
    "Write the following queries:\n",
    "<ol>\n",
    "    <li> Retrieve all available information regarding products contained in the products table. </li>\n",
    "    <li> Retrieve all rows of the orders table that have a quantity of 5 or more products, showing the customerId, ProductId and quantity. </li>\n",
    "    <li> Retrieve first and last name of all customers with a first name that starts with a \"J\". </li>\n",
    "    <li> Retrieve all available information of the top 6 largest orders in terms of quantity. </li>\n",
    "    <li> Retrieve only the name and price of the cheapest product in the products table. </li>\n",
    "</ol>\n",
    "</p>"
   ]
  },
  {
   "cell_type": "code",
   "execution_count": null,
   "metadata": {},
   "outputs": [],
   "source": [
    "Q_B1 = \"\"\n",
    "\n",
    "db.execute_query(query=Q_B1, return_df=True, exercise=\"B1\")"
   ]
  },
  {
   "cell_type": "code",
   "execution_count": null,
   "metadata": {},
   "outputs": [],
   "source": [
    "Q_B2 = \"\"\n",
    "\n",
    "db.execute_query(query=Q_B2, return_df=True, exercise=\"B2\")"
   ]
  },
  {
   "cell_type": "code",
   "execution_count": null,
   "metadata": {},
   "outputs": [],
   "source": [
    "Q_B3 = \"\"\n",
    "\n",
    "db.execute_query(query=Q_B3, return_df=True, exercise=\"B3\")"
   ]
  },
  {
   "cell_type": "code",
   "execution_count": null,
   "metadata": {},
   "outputs": [],
   "source": [
    "Q_B4 = \"\"\n",
    "\n",
    "db.execute_query(query=Q_B4, return_df=True, exercise=\"B4\")"
   ]
  },
  {
   "cell_type": "code",
   "execution_count": null,
   "metadata": {},
   "outputs": [],
   "source": [
    "Q_B5 = \"\"\n",
    "\n",
    "db.execute_query(query=Q_B5, return_df=True, exercise=\"B5\")"
   ]
  },
  {
   "cell_type": "markdown",
   "metadata": {},
   "source": [
    "<hr>\n",
    "<h3> C. Database operations </h3>\n",
    "<p>\n",
    "Besides execution of basic reading operations, also a lot of database operations are available. <br>\n",
    "These operations include Creating, Updating an Deleting operations. <br>\n",
    "These operations form the foundation for every Database developer and/or administrator. <br>\n",
    "Understanding these functionalities, you will be able to create, access and manipulate databases. <br>\n",
    "The operations and their functionaltiy will be listed below:\n",
    "<ul>\n",
    "    <li> <b>CREATE TABLE</b> - Creates a table with the given table name. </li>\n",
    "    <li> <b>INSERT INTO</b> - Allows you to add new records to the database table. </li>\n",
    "    <li> <b>UPDATE</b> - Allows you to adjust data in existing records within the database table. </li>\n",
    "    <li> <b>DELETE FROM</b> - Allows you to delete one or multiple data records from the database table. </li>\n",
    "    <li> <b>DROP TABLE</b> - Allows you to drop an entire table from the database. </li>\n",
    "</ul>\n",
    "</p>"
   ]
  },
  {
   "cell_type": "markdown",
   "metadata": {},
   "source": [
    "<h7> <b> -- C1. CREATE TABLE -- </b> </h7>\n",
    "<p>\n",
    "Write a query that creates a new table called 'campaigns', which contains all marketing campaigns of different products. <br>\n",
    "The table should consists of the following columns and their corresponding data types:\n",
    "<ol>\n",
    "    <li><b>id</b> - Integer, Primary Key, Auto Increment</li>\n",
    "    <li><b>productId</b> - Integer, Foreign Key (reference: products.id)</li>\n",
    "    <li><b>campaignStart</b> - Timestamp </li>\n",
    "    <li><b>campaignEnd</b> - Timestamp </li>\n",
    "    <li><b>Discount</b> - float </li>\n",
    "</ol>\n",
    "</p>"
   ]
  },
  {
   "cell_type": "code",
   "execution_count": null,
   "metadata": {},
   "outputs": [],
   "source": [
    "Q_C1_1 = \"\"\" \"\"\"\n",
    "\n",
    "db.execute_query(query=Q_C1_1)"
   ]
  },
  {
   "cell_type": "markdown",
   "metadata": {},
   "source": [
    "<h7> <b> -- C2. INSERT INTO -- </b> </h7>\n",
    "<p>\n",
    "Now it is time to populate your newly created table. <br>\n",
    "Please insert the following data onto the campaigns table: <br>\n",
    "<code> { <br>\n",
    "    &nbsp; productId: 4, <br>\n",
    "    &nbsp; campaignStart: '2022-01-01', <br>\n",
    "    &nbsp; campaignEnd: '2022-04-08', <br>\n",
    "    &nbsp; discount: 0.20 <br>\n",
    "} </code> <br>\n",
    "\n",
    "<code> { <br>\n",
    "    &nbsp; productId: 6, <br>\n",
    "    &nbsp; campaignStart: '2022-02-02', <br>\n",
    "    &nbsp; campaignEnd: '2022-06-23', <br>\n",
    "    &nbsp; discount: 0.15 <br>\n",
    "} </code> <br>\n",
    "\n",
    "<code> { <br>\n",
    "    &nbsp; productId: 4, <br>\n",
    "    &nbsp; campaignStart: '2022-04-20', <br>\n",
    "    &nbsp; campaignEnd: '2022-07-15', <br>\n",
    "    &nbsp; discount: 0.30 <br>\n",
    "} </code> <br>\n",
    "\n",
    "<code> { <br>\n",
    "    &nbsp; productId: 7, <br>\n",
    "    &nbsp; campaignStart: '2022-10-20', <br>\n",
    "    &nbsp; campaignEnd: '2022-12-31', <br>\n",
    "    &nbsp; discount: 0.125 <br>\n",
    "} </code> <br>\n",
    "\n",
    "</p>"
   ]
  },
  {
   "cell_type": "code",
   "execution_count": null,
   "metadata": {},
   "outputs": [],
   "source": [
    "Q_C2_1 = \"\"\n",
    "\n",
    "db.execute_query(query=Q_C2_1)"
   ]
  },
  {
   "cell_type": "code",
   "execution_count": null,
   "metadata": {},
   "outputs": [],
   "source": [
    "Q_C2_2 = \"\"\n",
    "\n",
    "db.execute_query(Q_C2_2)"
   ]
  },
  {
   "cell_type": "code",
   "execution_count": null,
   "metadata": {},
   "outputs": [],
   "source": [
    "Q_C2_3 = \"\"\n",
    "\n",
    "db.execute_query(Q_C2_3)"
   ]
  },
  {
   "cell_type": "code",
   "execution_count": null,
   "metadata": {},
   "outputs": [],
   "source": [
    "Q_C2_4 = \"\"\n",
    "\n",
    "db.execute_query(Q_C2_4)"
   ]
  },
  {
   "cell_type": "markdown",
   "metadata": {},
   "source": [
    "<h7> <b> -- C3. UPDATE -- </b> </h7>\n",
    "<p>\n",
    "We have actually made some mistake with inserting the campaigns into the database. <br>\n",
    "Make the following adjustments to the database records: <br>\n",
    "<ol>\n",
    "    <li> For the campaign with id 1, Change the start date from: '2022-01-01' to '2022-01-25'. </li>\n",
    "    <li> For the campaign(s) with end date '2022-06-23', Change the start date to '2022-01-01' and the end date to '2022-12-31'. </li>\n",
    "    <li> For the campaign(s) concerning productId 4, change the discount to 0.25. </li>\n",
    "</ol>\n",
    "</p>"
   ]
  },
  {
   "cell_type": "code",
   "execution_count": null,
   "metadata": {},
   "outputs": [],
   "source": [
    "Q_C3_1 = \"\"\n",
    "\n",
    "db.execute_query(Q_C3_1)"
   ]
  },
  {
   "cell_type": "code",
   "execution_count": null,
   "metadata": {},
   "outputs": [],
   "source": [
    "Q_C3_2 = \"\"\n",
    "\n",
    "db.execute_query(Q_C3_2)"
   ]
  },
  {
   "cell_type": "code",
   "execution_count": null,
   "metadata": {},
   "outputs": [],
   "source": [
    "Q_C3_3 = \"\"\n",
    "\n",
    "db.execute_query(Q_C3_3)"
   ]
  },
  {
   "cell_type": "markdown",
   "metadata": {},
   "source": [
    "<h7> <b> -- C4. DELETE FROM -- </b> </h7>\n",
    "<p>\n",
    "Deletion of record can also be done in a similar manner as previous database mutations using the WHERE clause. <br>\n",
    "Write the queries executing the following behavior:\n",
    "<ol>\n",
    "    <li> Remove all campaigns that concern productId 6. </li>\n",
    "    <li> Remove all other campaigns, emptying the database table. </li>\n",
    "</ol>\n",
    "\n",
    "</p>"
   ]
  },
  {
   "cell_type": "code",
   "execution_count": null,
   "metadata": {},
   "outputs": [],
   "source": [
    "Q_C4_1 = \"\"\n",
    "\n",
    "db.execute_query(Q_C4_1)"
   ]
  },
  {
   "cell_type": "code",
   "execution_count": null,
   "metadata": {},
   "outputs": [],
   "source": [
    "Q_C4_2 = \"\"\n",
    "\n",
    "db.execute_query(Q_C4_2)"
   ]
  },
  {
   "cell_type": "markdown",
   "metadata": {},
   "source": [
    "<h3><b> CAUTION!</b></h3>\n",
    "<p> \n",
    "The last query you wrote to remove all campaigns shows the danger of using the <b> DELETE FROM </b> operator. <br>\n",
    "When using this operator make sure to <b>always include a where condition</b>, as otherwise the database table is emptied. <br>\n",
    "If such a query without a condition is executed on an actual database table the data will be removed without a possibility of to be retrieved.\n",
    "</p>"
   ]
  },
  {
   "cell_type": "markdown",
   "metadata": {},
   "source": [
    "<h7> <b> -- C5. DROP TABLE -- </b> </h7>\n",
    "<p>\n",
    "The created campaigns table is only created and used to practice the database operators. <br>\n",
    "For the following excersises we will clean the database by dropping the campaigns table. <br>\n",
    "Write a query that drops the table from te database, only leaving the Customers, Products and Orders tables.\n",
    "</p>"
   ]
  },
  {
   "cell_type": "code",
   "execution_count": null,
   "metadata": {},
   "outputs": [],
   "source": [
    "Q_C5_1 = \"\"\n",
    "\n",
    "db.execute_query(Q_C5_1)"
   ]
  },
  {
   "cell_type": "markdown",
   "metadata": {},
   "source": [
    "<hr>\n",
    "<h3> D. Calculation operators </h3>\n",
    "<p>\n",
    "Next we will look into calculation operators, which extends the possibilities of what can be retrieved from the database. <br>\n",
    "Instead of simply using the <b>SELECT</b> operator, the calculation operators can perform calculations on the values that are retrieved. <br>\n",
    "There are a lot of possible calculation operators, however the most commonly used are the Max, Min, Sum and Count operators. <br>\n",
    "Together with the <b>GROUP BY</b> operator you can perform some useful calculative queries that are able to return great Business Intelligence. <br>\n",
    "When using <b>GROUP BY</b>, conditional retrieval is done using <b>HAVING</b> instead of <b>WHERE</b>, which also works for calculations. <br>\n",
    "Write the following queries:\n",
    "<ol>\n",
    "    <li> Retrieve the total number of orders that are contained in the orders table. </li>\n",
    "    <li> Return the product name and the total value stored in inventory (price * stock). </li>\n",
    "    <li> Return the productId and the largest quantity ordered for all products separately (using <b>GROUP BY</b>). </li>\n",
    "    <li> Return the productId and the number of different customers for all products separately (using <b>DISTINCT()</b>), only returning products with two or more distinct customers. </li>\n",
    "</ol>\n",
    "</p>\n"
   ]
  },
  {
   "cell_type": "code",
   "execution_count": null,
   "metadata": {},
   "outputs": [],
   "source": [
    "Q_D1 = \"\"\n",
    "\n",
    "db.execute_query(query=Q_D1,  return_df=True, exercise=\"D1\")"
   ]
  },
  {
   "cell_type": "code",
   "execution_count": null,
   "metadata": {},
   "outputs": [],
   "source": [
    "Q_D2 = \"\"\n",
    "\n",
    "db.execute_query(query=Q_D2, return_df=True, exercise=\"D2\")"
   ]
  },
  {
   "cell_type": "code",
   "execution_count": null,
   "metadata": {},
   "outputs": [],
   "source": [
    "Q_D3 = \"\"\n",
    "\n",
    "db.execute_query(query=Q_D3, return_df=True, exercise=\"D3\")"
   ]
  },
  {
   "cell_type": "code",
   "execution_count": null,
   "metadata": {},
   "outputs": [],
   "source": [
    "Q_D4 = \"\"\n",
    "\n",
    "db.execute_query(query=Q_D4, return_df=True, exercise=\"D4\")"
   ]
  },
  {
   "cell_type": "markdown",
   "metadata": {},
   "source": [
    "<hr>\n",
    "<h3> E. Writing complex (multi-table) queries </h3>\n",
    "<p>\n",
    "To enable the full extend of the capabilities of the SQL language, the <b>JOIN</b> operator will be introduced. <br>\n",
    "JOIN allows you to query data from multiple tables, which enables you to write complex multi-table queries. <br>\n",
    "Within this module you will be asked to use both the <b>basic</b> and <b>Calculation</b> operators combined with <b>JOIN</b>. <br>\n",
    "<br>\n",
    "\n",
    "Besides the <b>JOIN</b> operator, it is also possible to include other information using <b>sub-queries</b>. <br>\n",
    "<b>Sub-queries</b> allow you to use the results of a sub-query in a conditional statement for another query. <br>\n",
    "Such queries can for example be used to retrieve all information of customers that placed at least one order with a quantity larger than 3. <br>\n",
    "This information can be retrieved using the query: <br>\n",
    "<code> SELECT * FROM customers WHERE customers.id IN (SELECT customerId FROM orders WHERE quantity > 3) </code>. <br>\n",
    "<br> \n",
    "\n",
    "The queries you have to write will be formulated as requests from different departments. <br>\n",
    "If you will be working with databases in the future, you will be faced with such query requests. <br>\n",
    "Write the following queries:\n",
    "<ol>\n",
    "    <li> Sales wants to analyse the number of products that are ordered 3 or more times, retrieve only the product names. <br>\n",
    "    <li> The marketing department asks for all first and last names of customers who ordered a \"Desk\" in the past. </li>\n",
    "    <li> Upper management wants to gain insight in consumer behavior. Calculate the total spend per customer and display the first and last name together with the total spend in ascending order based on total spend. </li>\n",
    "    <li> For our customer loyalty program we want to retrieve a list of first and last names of customers that made at least 2 orders in the past with an average order value above 250 euros. <br>\n",
    "</ol>\n",
    "</p>"
   ]
  },
  {
   "cell_type": "code",
   "execution_count": null,
   "metadata": {},
   "outputs": [],
   "source": [
    "Q_E1 = \"\"\" \"\"\"\n",
    "\n",
    "db.execute_query(query=Q_E1, return_df=True, exercise=\"E1\")"
   ]
  },
  {
   "cell_type": "code",
   "execution_count": null,
   "metadata": {},
   "outputs": [],
   "source": [
    "Q_E2 = \"\"\" \"\"\"\n",
    "\n",
    "db.execute_query(query=Q_E2, return_df=True, exercise=\"E1\")"
   ]
  },
  {
   "cell_type": "code",
   "execution_count": null,
   "metadata": {},
   "outputs": [],
   "source": [
    "Q_E3 = \"\"\" \"\"\"\n",
    "\n",
    "db.execute_query(query=Q_E3, return_df=True, exercise=\"E2\")"
   ]
  },
  {
   "cell_type": "code",
   "execution_count": null,
   "metadata": {},
   "outputs": [],
   "source": [
    "Q_E4 = \"\"\" \"\"\"\n",
    "\n",
    "db.execute_query(query=Q_E4, return_df=True, exercise=\"E4\")"
   ]
  },
  {
   "cell_type": "markdown",
   "metadata": {},
   "source": [
    "<hr>\n",
    "<h1> Congratulations!! </h1>\n",
    "<p>\n",
    "You completed all modules and created all queries that are requested! <br>\n",
    "Through running other queries you are able to validate whether the queries you have written are correct. <br>\n",
    "However, to have a final check, we build in a mechanism that will check whether your queries show the desired, requested behavior. <br>\n",
    "To kick off these tests, you only have to push this directory to the main Git branch. <br>\n",
    "This can be done using the following steps:\n",
    "<ol>\n",
    "    <li> Open the command prompt in VS Code by pressing <b>CTRL</b> + <b>`</b>. </li>\n",
    "    <li> Write the command <code>git status</code> to check which differences there are between your current and the master branch. </li>\n",
    "    <li> Write the command <code>git add .\\Modules\\M3_SQL\\</code> to add the main notebook to the staging lane. </li>\n",
    "    <li> Write the command <code>git commit -m \"<i>[INSERT COMMIT MESSAGE]</i>\"</code> to commit the staged changes and adding a descriptive commit message. </li>\n",
    "    <li> Finally, write the command <code>git push</code> to push the staged changes to the master branch. </li>\n",
    "    <li> \n",
    "        Upon pushing the changes, the PyTest modules will be run to check your answers, for which an overview is generated in your Github \n",
    "        <ol>\n",
    "            <li> View the results by heading to Github.com, open your forked repository and go to Actions. </li>\n",
    "            <li> Upon first opening the Actions page it can be that you have to enable it first, if so just press \"I understand my workflows, go ahead and enable them\" button. </li>\n",
    "            <li> Within the <b>\"All workflows\"</b> frame you will find a workflow run that has the same name as the commit message used to push your answers. </li>\n",
    "            <li> \n",
    "                In front of  the workflow there can be either one of three things:\n",
    "                <ul>\n",
    "                    <li> <b>A yellow circle</b> - Meaning that the tests are still running. </li>\n",
    "                    <li> <b>A green check mark</b> - Meaning that all tests were successful and your code is written perfectly! </li>\n",
    "                    <li> <b>A red cross</b> - Meaning that a mistake is found within your code. </li>\n",
    "                </ul>\n",
    "            </li>\n",
    "            <li> You can open the workflow run to view the details by clicking on the name of the workflow run (which is the commit message you wrote). </li>\n",
    "            <li> After opening the workflow run, you can go to the details by clicking the white box that contains the mark and the text <b>\"run\"</b>. </li>\n",
    "            <li> If a red cross is shown, meaning there is a mistake, the mistake can be found by navigating to (and opening) the <b>\"PyTest\"</b> section. </li>\n",
    "            <li> Below the <b>\"____test_results____\"</b> you can find the <b>\"AssertionError:\"</b> which shows you where in your code the (first) mistake can be found and what the mistake is. </li>\n",
    "            <li> For example the code: <code>AssertionError: R_B3: ...</code> means that there is a mistake in Query B3. </li>\n",
    "        </ol>\n",
    "    </li>\n",
    "    <li> If a mistake was found, you head back to your code, fix the mistake using the hint shown behind the <b>AssertionError</b> and push your answers again. This will kickstart another test round. </li>\n",
    "</ol>\n",
    "If you pass all tests, feel free to continue to our next module, <b>Module 4 : Machine Learning (ML)</b>.\n",
    "</p>"
   ]
  }
 ],
 "metadata": {
  "kernelspec": {
   "display_name": "Python 3",
   "language": "python",
   "name": "python3"
  },
  "language_info": {
   "codemirror_mode": {
    "name": "ipython",
    "version": 3
   },
   "file_extension": ".py",
   "mimetype": "text/x-python",
   "name": "python",
   "nbconvert_exporter": "python",
   "pygments_lexer": "ipython3",
   "version": "3.10.4"
  },
  "orig_nbformat": 4,
  "vscode": {
   "interpreter": {
    "hash": "e01e7986e68b333fe809ea651447c5e875e888263704d380ff78c5e0510cf1f6"
   }
  }
 },
 "nbformat": 4,
 "nbformat_minor": 2
}
