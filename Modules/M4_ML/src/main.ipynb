{
 "cells": [
  {
   "cell_type": "markdown",
   "metadata": {},
   "source": [
    "<h1> Data Science Bootcamp Basics 2 - ML: Machine Learning </h1>\n",
    "<hr>\n",
    "\n",
    "<p>\n",
    "    Throughout this module you will be working through the CRISP-DM model, as shown in the Easy-LMS course. <br>\n",
    "    The CRISP-DM model clearly defines the phases of design, creation and evaluation of a Machine Learning model. <br>\n",
    "    For this module, the business understanding and deployment phases are excluded, as they are not suited for this task. <br>\n",
    "    You will however learn to deploy your models towards the finale module of this Bootcamp! <br>\n",
    "    <br>\n",
    "    You will be working with a simple, but well-known, dataset called the Iris dataset. <br>\n",
    "    This dataset consists of 150 samples of flowers, described using the following characteristics:\n",
    "    <ol>\n",
    "        <li>\n",
    "            <b><u>Iris dataset</u></b>\n",
    "            <ul>\n",
    "                <li> <b>id</b>: The unique ID reference of the properties. </li>\n",
    "                <li> <b>sepal length (cm)</b>: The length of the outer part of an iris flower that surround the petals. </li>\n",
    "                <li> <b>sepal width (mm)</b>: The width of the outer part of an iris flower that surround the petals. </li>\n",
    "                <li> <b>petal length (cm)</b>: The length of the parts of an iris flower that are often conspicuously colored. </li>\n",
    "                <li> <b>petal width (cm)</b>: The width of the parts of an iris flower that are often conspicuously colored. </li>\n",
    "                <li> <b>state</b>: How moist the plant felt at the time of measurement. </li>\n",
    "            </ul>\n",
    "        </li>\n",
    "    </ol>\n",
    "</p>"
   ]
  },
  {
   "cell_type": "markdown",
   "metadata": {},
   "source": [
    "<hr>\n",
    "<h3>A. Data understanding </h3>\n",
    "<p>\n",
    "We will use the Iris dataset to <b>analyze</b>, <b>classify</b> and <b>predict</b> different Iris plant species. <br>\n",
    "As this is not a task at a company but just for practice, we skip the business understanding and dive directly into the data. <br>\n",
    "The <b>Data Understanding Phase</b> is executed to gain insight into the characteristics of the dataset. <br>\n",
    "A first glance on the data might reveal weaknesses, and could tell you which preprocessing steps are needed in the <b>Data Preparation Phase</b>.<br>\n",
    "<br>\n",
    "To help you get started, we already created some code for you which can be imported. <br>\n",
    "The pre-written code and Iris dataset are all enclosed within a class, called <b>Function</b>. <br>\n",
    "If the <b>Function</b> class needs to be used, this will be explained in advance of the assignment. <br>\n",
    "Usually, this will take the following form: <code>func.<i>[SUGGESTED FUNCTION HERE]</i>(<i>[SOME VALUES]</i>)</code>.\n",
    "</p>"
   ]
  },
  {
   "cell_type": "code",
   "execution_count": 1,
   "metadata": {},
   "outputs": [],
   "source": [
    "# %cd ../../.."
   ]
  },
  {
   "cell_type": "code",
   "execution_count": 2,
   "metadata": {},
   "outputs": [],
   "source": [
    "from Modules.M4_ML.libs.function import Function\n",
    "func = Function()"
   ]
  },
  {
   "cell_type": "markdown",
   "metadata": {},
   "source": [
    "Within Python the mosts used library to work with data is called <b>Pandas</b>. <br>\n",
    "Pandas saves data in a so-called <b>DataFrame</b>, which can be thought of as an SQL table or an Excel sheet. <br>\n",
    "Such DataFrames can be created manually, however in most cases this is not needed. <br>\n",
    "Pandas allows to read a DataFrame from for example a CSV or Excel file, which prevents the need to define it yourself. <br>\n",
    "<br>\n",
    "For this assignment we already have a DataFrame with the data enclosed within the <b>Function</b> class. <br>\n",
    "Accessing this data can be done using <code>func.iris</code>, which is a direct reference to the underlying DataFrame. "
   ]
  },
  {
   "cell_type": "code",
   "execution_count": 3,
   "metadata": {},
   "outputs": [
    {
     "data": {
      "text/html": [
       "<div>\n",
       "<style scoped>\n",
       "    .dataframe tbody tr th:only-of-type {\n",
       "        vertical-align: middle;\n",
       "    }\n",
       "\n",
       "    .dataframe tbody tr th {\n",
       "        vertical-align: top;\n",
       "    }\n",
       "\n",
       "    .dataframe thead th {\n",
       "        text-align: right;\n",
       "    }\n",
       "</style>\n",
       "<table border=\"1\" class=\"dataframe\">\n",
       "  <thead>\n",
       "    <tr style=\"text-align: right;\">\n",
       "      <th></th>\n",
       "      <th>sepal length (cm)</th>\n",
       "      <th>sepal width (mm)</th>\n",
       "      <th>petal length (cm)</th>\n",
       "      <th>petal width (cm)</th>\n",
       "      <th>state</th>\n",
       "    </tr>\n",
       "  </thead>\n",
       "  <tbody>\n",
       "    <tr>\n",
       "      <th>0</th>\n",
       "      <td>5.1</td>\n",
       "      <td>35.0</td>\n",
       "      <td>1.4</td>\n",
       "      <td>0.2</td>\n",
       "      <td>wet</td>\n",
       "    </tr>\n",
       "    <tr>\n",
       "      <th>1</th>\n",
       "      <td>4.9</td>\n",
       "      <td>30.0</td>\n",
       "      <td>1.4</td>\n",
       "      <td>0.2</td>\n",
       "      <td>dry</td>\n",
       "    </tr>\n",
       "    <tr>\n",
       "      <th>2</th>\n",
       "      <td>4.7</td>\n",
       "      <td>32.0</td>\n",
       "      <td>1.3</td>\n",
       "      <td>0.2</td>\n",
       "      <td>dry</td>\n",
       "    </tr>\n",
       "    <tr>\n",
       "      <th>3</th>\n",
       "      <td>4.6</td>\n",
       "      <td>31.0</td>\n",
       "      <td>1.5</td>\n",
       "      <td>0.2</td>\n",
       "      <td>wet</td>\n",
       "    </tr>\n",
       "    <tr>\n",
       "      <th>4</th>\n",
       "      <td>5.0</td>\n",
       "      <td>36.0</td>\n",
       "      <td>1.4</td>\n",
       "      <td>0.2</td>\n",
       "      <td>wet</td>\n",
       "    </tr>\n",
       "    <tr>\n",
       "      <th>...</th>\n",
       "      <td>...</td>\n",
       "      <td>...</td>\n",
       "      <td>...</td>\n",
       "      <td>...</td>\n",
       "      <td>...</td>\n",
       "    </tr>\n",
       "    <tr>\n",
       "      <th>145</th>\n",
       "      <td>6.7</td>\n",
       "      <td>30.0</td>\n",
       "      <td>5.2</td>\n",
       "      <td>2.3</td>\n",
       "      <td>wet</td>\n",
       "    </tr>\n",
       "    <tr>\n",
       "      <th>146</th>\n",
       "      <td>6.3</td>\n",
       "      <td>25.0</td>\n",
       "      <td>5.0</td>\n",
       "      <td>1.9</td>\n",
       "      <td>wet</td>\n",
       "    </tr>\n",
       "    <tr>\n",
       "      <th>147</th>\n",
       "      <td>6.5</td>\n",
       "      <td>30.0</td>\n",
       "      <td>5.2</td>\n",
       "      <td>2.0</td>\n",
       "      <td>dry</td>\n",
       "    </tr>\n",
       "    <tr>\n",
       "      <th>148</th>\n",
       "      <td>6.2</td>\n",
       "      <td>34.0</td>\n",
       "      <td>5.4</td>\n",
       "      <td>2.3</td>\n",
       "      <td>dry</td>\n",
       "    </tr>\n",
       "    <tr>\n",
       "      <th>149</th>\n",
       "      <td>5.9</td>\n",
       "      <td>30.0</td>\n",
       "      <td>5.1</td>\n",
       "      <td>1.8</td>\n",
       "      <td>wet</td>\n",
       "    </tr>\n",
       "  </tbody>\n",
       "</table>\n",
       "<p>150 rows × 5 columns</p>\n",
       "</div>"
      ],
      "text/plain": [
       "     sepal length (cm)  sepal width (mm)  petal length (cm)  petal width (cm)  \\\n",
       "0                  5.1              35.0                1.4               0.2   \n",
       "1                  4.9              30.0                1.4               0.2   \n",
       "2                  4.7              32.0                1.3               0.2   \n",
       "3                  4.6              31.0                1.5               0.2   \n",
       "4                  5.0              36.0                1.4               0.2   \n",
       "..                 ...               ...                ...               ...   \n",
       "145                6.7              30.0                5.2               2.3   \n",
       "146                6.3              25.0                5.0               1.9   \n",
       "147                6.5              30.0                5.2               2.0   \n",
       "148                6.2              34.0                5.4               2.3   \n",
       "149                5.9              30.0                5.1               1.8   \n",
       "\n",
       "    state  \n",
       "0     wet  \n",
       "1     dry  \n",
       "2     dry  \n",
       "3     wet  \n",
       "4     wet  \n",
       "..    ...  \n",
       "145   wet  \n",
       "146   wet  \n",
       "147   dry  \n",
       "148   dry  \n",
       "149   wet  \n",
       "\n",
       "[150 rows x 5 columns]"
      ]
     },
     "execution_count": 3,
     "metadata": {},
     "output_type": "execute_result"
    }
   ],
   "source": [
    "func.iris"
   ]
  },
  {
   "cell_type": "markdown",
   "metadata": {},
   "source": [
    "The <b>Data Understanding Phase</b> is used to gather a great understanding of the dataset to be used. <br>\n",
    "This process is often described as <b>Exploratory Data Analysis (EDA)</b>, which is all about making sense of the data. <br>\n",
    "Starting this process can be done using the in-build functions of Pandas, of which some will be listed below:\n",
    "<ol>\n",
    "    <li>\n",
    "        <u>The most important operations and their functionality will be listed below:</u>\n",
    "        <ul>\n",
    "            <li> <b><code>[DATAFRAME].shape</code></b> - Returns the dimensionality of the DataFrame. </li>\n",
    "            <li> <b><code>[DATAFRAME].head(<i>n</i>) </code></b> - Returns the first <i>n</i> of the base DataFrame. </li>\n",
    "            <li> <b><code>[DATAFRAME].info()</code></b> - Returns a summary describing the DataFrame, containing the index, columns, non-null values and the datatype. </li>\n",
    "            <li> <b><code>[DATAFRAME].isnull().sum()</code></b> - Returns the number of zero values in each column. </li>\n",
    "        </ul>\n",
    "    </li>\n",
    "</ol>\n",
    "These functions are given below to help you get a first glimpse of the characteristics of the Iris dataset. <br>\n",
    "<br>\n",
    "If you desire to extend your knowledge, which might be usefull for later exercises, look through the [Pandas documentation](https://pandas.pydata.org/docs/reference/frame.html) for all the modules in this library"
   ]
  },
  {
   "cell_type": "code",
   "execution_count": 4,
   "metadata": {},
   "outputs": [
    {
     "data": {
      "text/plain": [
       "(150, 5)"
      ]
     },
     "execution_count": 4,
     "metadata": {},
     "output_type": "execute_result"
    }
   ],
   "source": [
    "# Check the size of your table (DataFrame)\n",
    "func.iris.shape"
   ]
  },
  {
   "cell_type": "code",
   "execution_count": 5,
   "metadata": {},
   "outputs": [
    {
     "data": {
      "text/html": [
       "<div>\n",
       "<style scoped>\n",
       "    .dataframe tbody tr th:only-of-type {\n",
       "        vertical-align: middle;\n",
       "    }\n",
       "\n",
       "    .dataframe tbody tr th {\n",
       "        vertical-align: top;\n",
       "    }\n",
       "\n",
       "    .dataframe thead th {\n",
       "        text-align: right;\n",
       "    }\n",
       "</style>\n",
       "<table border=\"1\" class=\"dataframe\">\n",
       "  <thead>\n",
       "    <tr style=\"text-align: right;\">\n",
       "      <th></th>\n",
       "      <th>sepal length (cm)</th>\n",
       "      <th>sepal width (mm)</th>\n",
       "      <th>petal length (cm)</th>\n",
       "      <th>petal width (cm)</th>\n",
       "      <th>state</th>\n",
       "    </tr>\n",
       "  </thead>\n",
       "  <tbody>\n",
       "    <tr>\n",
       "      <th>0</th>\n",
       "      <td>5.1</td>\n",
       "      <td>35.0</td>\n",
       "      <td>1.4</td>\n",
       "      <td>0.2</td>\n",
       "      <td>wet</td>\n",
       "    </tr>\n",
       "    <tr>\n",
       "      <th>1</th>\n",
       "      <td>4.9</td>\n",
       "      <td>30.0</td>\n",
       "      <td>1.4</td>\n",
       "      <td>0.2</td>\n",
       "      <td>dry</td>\n",
       "    </tr>\n",
       "    <tr>\n",
       "      <th>2</th>\n",
       "      <td>4.7</td>\n",
       "      <td>32.0</td>\n",
       "      <td>1.3</td>\n",
       "      <td>0.2</td>\n",
       "      <td>dry</td>\n",
       "    </tr>\n",
       "    <tr>\n",
       "      <th>3</th>\n",
       "      <td>4.6</td>\n",
       "      <td>31.0</td>\n",
       "      <td>1.5</td>\n",
       "      <td>0.2</td>\n",
       "      <td>wet</td>\n",
       "    </tr>\n",
       "    <tr>\n",
       "      <th>4</th>\n",
       "      <td>5.0</td>\n",
       "      <td>36.0</td>\n",
       "      <td>1.4</td>\n",
       "      <td>0.2</td>\n",
       "      <td>wet</td>\n",
       "    </tr>\n",
       "  </tbody>\n",
       "</table>\n",
       "</div>"
      ],
      "text/plain": [
       "   sepal length (cm)  sepal width (mm)  petal length (cm)  petal width (cm)  \\\n",
       "0                5.1              35.0                1.4               0.2   \n",
       "1                4.9              30.0                1.4               0.2   \n",
       "2                4.7              32.0                1.3               0.2   \n",
       "3                4.6              31.0                1.5               0.2   \n",
       "4                5.0              36.0                1.4               0.2   \n",
       "\n",
       "  state  \n",
       "0   wet  \n",
       "1   dry  \n",
       "2   dry  \n",
       "3   wet  \n",
       "4   wet  "
      ]
     },
     "execution_count": 5,
     "metadata": {},
     "output_type": "execute_result"
    }
   ],
   "source": [
    "# Show the first (n) 5 rows from the dataset\n",
    "func.iris.head(n=5)"
   ]
  },
  {
   "cell_type": "code",
   "execution_count": 6,
   "metadata": {},
   "outputs": [
    {
     "name": "stdout",
     "output_type": "stream",
     "text": [
      "<class 'pandas.core.frame.DataFrame'>\n",
      "RangeIndex: 150 entries, 0 to 149\n",
      "Data columns (total 5 columns):\n",
      " #   Column             Non-Null Count  Dtype  \n",
      "---  ------             --------------  -----  \n",
      " 0   sepal length (cm)  150 non-null    float64\n",
      " 1   sepal width (mm)   150 non-null    float64\n",
      " 2   petal length (cm)  146 non-null    float64\n",
      " 3   petal width (cm)   150 non-null    float64\n",
      " 4   state              150 non-null    object \n",
      "dtypes: float64(4), object(1)\n",
      "memory usage: 6.0+ KB\n"
     ]
    }
   ],
   "source": [
    "# Checking for any inconsistency in the data\n",
    "func.iris.info()"
   ]
  },
  {
   "cell_type": "code",
   "execution_count": 7,
   "metadata": {},
   "outputs": [
    {
     "data": {
      "text/plain": [
       "sepal length (cm)    0\n",
       "sepal width (mm)     0\n",
       "petal length (cm)    4\n",
       "petal width (cm)     0\n",
       "state                0\n",
       "dtype: int64"
      ]
     },
     "execution_count": 7,
     "metadata": {},
     "output_type": "execute_result"
    }
   ],
   "source": [
    "# How many zero values\n",
    "func.iris.isnull().sum()"
   ]
  },
  {
   "cell_type": "markdown",
   "metadata": {},
   "source": [
    "Besides these basic analyses, additional analysis can be executed to discover patterns, spot anomalies and to check assumptions. <br>\n",
    "Doing this can be done in different ways, both using summary statistics as with graphical respresentations. <br>\n",
    "Again Pandas has some in-build functions for this, which will be explained below:\n",
    "<ul>\n",
    "    <li><b><code>[DATAFRAME].describe()</code></b> - Returns the basic data statistics, including the count, mean, standard deviation, the quartiles and the minimum and maximum value. These statistics exclude the <b>NaN</b> values.  </li> \n",
    "    <li><b><code>[DATAFRAME].hist()</code></b> - Returns histograms of the data for all columns (parameters) separately. Showing the distribution of the data.</li>\n",
    "    <li><b><code>[DATAFRAME].boxplot()</code></b> - Returns boxplots of the data for all columns (parameters) separately. The box shows the range from the first to the third quartile, with the median displayed as the line in the middle. The total length between the first and third quartile (de length of the box) is defined as the Inter Quartile Range (IQR). The whiskers outside the box are set to be 1.5 times this IQR value, as this is perceived as the allowed minimum and maximum values. An outlier would be any point outside the whiskers, however as the boxplots only concern a quick measure this conclusion has to be made with caution. There are statistical tests to define whether a value is indeed an outlier or not, but the complexity of such tests exceed the purpose of this course. In most cases it suffices to rely on a soft measure, to be decided whether the distance between the whisker and the value is indeed significant.</li>\n",
    "    <li><b><code>[DATAFRAME].corr()</code></b> - Returns a matrix, displaying the correlations between all columns (parameters). As highly correlated values do not add any knowledge and just add complexity to your model, it is a good practice to remove these values during <b>feature selection</b>.</li>\n",
    "</ul>\n",
    " \n",
    "<!-- <ul>\n",
    "    <li> <b>Statistics</b>: Describe the data statistics, including the central tendency, dispersion and shape of a dataset distribution, excluding <code>NaN</code> values. </li>\n",
    "    <li> <b>Histograms</b>:  Represent the distribution of the data in the DataFrame. </li>\n",
    "    <li> <b>Boxplots</b>: Visualize the distribution of quantitative data in a way that facilitates comparisons between variables. The box shows the range from the first to the third quartile, with the median displayed as the line in the middle.\n",
    "    The box shows the quartiles of the dataset while the whiskers extend to show the rest of the distribution. A segment inside the rectangle shows the median and “whiskers” above and below the box show the locations of the minimum and maximum. Outliers are either <math>1.5×Inter Quartile Range</math> or more above the third quartile or more below the first quartile. </li>\n",
    "    <li> <b>Correlation Matrix</b>: To use linear regression for modelling, its necessary to remove correlated variables to improve your model. One can find correlations using <code>pandas.corr()</code>. It’s a good practice to remove correlated variables during feature selection. </li>\n",
    "</ul> -->"
   ]
  },
  {
   "cell_type": "code",
   "execution_count": 8,
   "metadata": {},
   "outputs": [
    {
     "data": {
      "text/html": [
       "<div>\n",
       "<style scoped>\n",
       "    .dataframe tbody tr th:only-of-type {\n",
       "        vertical-align: middle;\n",
       "    }\n",
       "\n",
       "    .dataframe tbody tr th {\n",
       "        vertical-align: top;\n",
       "    }\n",
       "\n",
       "    .dataframe thead th {\n",
       "        text-align: right;\n",
       "    }\n",
       "</style>\n",
       "<table border=\"1\" class=\"dataframe\">\n",
       "  <thead>\n",
       "    <tr style=\"text-align: right;\">\n",
       "      <th></th>\n",
       "      <th>sepal length (cm)</th>\n",
       "      <th>sepal width (mm)</th>\n",
       "      <th>petal length (cm)</th>\n",
       "      <th>petal width (cm)</th>\n",
       "    </tr>\n",
       "  </thead>\n",
       "  <tbody>\n",
       "    <tr>\n",
       "      <th>count</th>\n",
       "      <td>150.000000</td>\n",
       "      <td>150.000000</td>\n",
       "      <td>146.000000</td>\n",
       "      <td>150.000000</td>\n",
       "    </tr>\n",
       "    <tr>\n",
       "      <th>mean</th>\n",
       "      <td>6.203333</td>\n",
       "      <td>30.573333</td>\n",
       "      <td>3.732877</td>\n",
       "      <td>1.199333</td>\n",
       "    </tr>\n",
       "    <tr>\n",
       "      <th>std</th>\n",
       "      <td>4.522908</td>\n",
       "      <td>4.358663</td>\n",
       "      <td>1.750551</td>\n",
       "      <td>0.762238</td>\n",
       "    </tr>\n",
       "    <tr>\n",
       "      <th>min</th>\n",
       "      <td>4.300000</td>\n",
       "      <td>20.000000</td>\n",
       "      <td>1.000000</td>\n",
       "      <td>0.100000</td>\n",
       "    </tr>\n",
       "    <tr>\n",
       "      <th>25%</th>\n",
       "      <td>5.100000</td>\n",
       "      <td>28.000000</td>\n",
       "      <td>1.600000</td>\n",
       "      <td>0.300000</td>\n",
       "    </tr>\n",
       "    <tr>\n",
       "      <th>50%</th>\n",
       "      <td>5.800000</td>\n",
       "      <td>30.000000</td>\n",
       "      <td>4.300000</td>\n",
       "      <td>1.300000</td>\n",
       "    </tr>\n",
       "    <tr>\n",
       "      <th>75%</th>\n",
       "      <td>6.400000</td>\n",
       "      <td>33.000000</td>\n",
       "      <td>5.100000</td>\n",
       "      <td>1.800000</td>\n",
       "    </tr>\n",
       "    <tr>\n",
       "      <th>max</th>\n",
       "      <td>60.300000</td>\n",
       "      <td>44.000000</td>\n",
       "      <td>6.900000</td>\n",
       "      <td>2.500000</td>\n",
       "    </tr>\n",
       "  </tbody>\n",
       "</table>\n",
       "</div>"
      ],
      "text/plain": [
       "       sepal length (cm)  sepal width (mm)  petal length (cm)  \\\n",
       "count         150.000000        150.000000         146.000000   \n",
       "mean            6.203333         30.573333           3.732877   \n",
       "std             4.522908          4.358663           1.750551   \n",
       "min             4.300000         20.000000           1.000000   \n",
       "25%             5.100000         28.000000           1.600000   \n",
       "50%             5.800000         30.000000           4.300000   \n",
       "75%             6.400000         33.000000           5.100000   \n",
       "max            60.300000         44.000000           6.900000   \n",
       "\n",
       "       petal width (cm)  \n",
       "count        150.000000  \n",
       "mean           1.199333  \n",
       "std            0.762238  \n",
       "min            0.100000  \n",
       "25%            0.300000  \n",
       "50%            1.300000  \n",
       "75%            1.800000  \n",
       "max            2.500000  "
      ]
     },
     "execution_count": 8,
     "metadata": {},
     "output_type": "execute_result"
    }
   ],
   "source": [
    "# Statistics summary\n",
    "func.iris.describe()"
   ]
  },
  {
   "cell_type": "markdown",
   "metadata": {},
   "source": [
    "Looking at the summary statistics above, three conclusions can be drawn:\n",
    "<ul>\n",
    "    <li> There indeed are missing values in the <i>petal length (cm)</i> column, as the count shows a different value than in other columns due to the exclusion of <b>NaN</b> values.</li>\n",
    "    <li> The values for the <i>sepal width (cm)</i> column are significantly higher than the mean plus standard deviation of other columns, which might indicate a different measuring unit used. </li>\n",
    "    <li> The maximum value of the <i>sepal length (cm)</i> column shows quite high, this needs further investigation.\n",
    "</ul>\n",
    "In defining the histrogram we set a variable called <code>hist</code> in which the returning values of the histogram will be saved. <br>\n",
    "We will not use these values, but if not defined they will be printed above the plots which might be confusing."
   ]
  },
  {
   "cell_type": "code",
   "execution_count": 9,
   "metadata": {},
   "outputs": [
    {
     "data": {
      "image/png": "[encoded data removed]",
      "text/plain": [
       "<Figure size 1600x800 with 4 Axes>"
      ]
     },
     "metadata": {},
     "output_type": "display_data"
    }
   ],
   "source": [
    "# Histograms\n",
    "hist = func.iris.hist(figsize=(16,8))"
   ]
  },
  {
   "cell_type": "markdown",
   "metadata": {},
   "source": [
    "The histograms above show the distribution of values for all parameters separately. <br>\n",
    "Immediately it can be seen that the distribution in the <i>sepal length (cm)</i> plot looks off. <br>\n",
    "Together with our conclusion of the <i>sepal length (cm)</i> from the summary statistics, this might indicate an outlier. <br>\n",
    "To define whether this hypothesis is true, a boxplot can give some deeper understanding. <br>\n",
    "<br>\n",
    "Here, we save the boxplot to a variable called <code>boxplot</code>. This because in the <code>[DataFrame].boxplot()</code> we have the option to save returning values to (in this case) a <code>'dict'</code> (dictionary). It contains the Lines making up the boxes, caps, fliers, medians, and whiskers. This may come in handy when we want to further investigate one of these points."
   ]
  },
  {
   "cell_type": "code",
   "execution_count": 10,
   "metadata": {},
   "outputs": [
    {
     "data": {
      "image/png": "[encoded data removed]",
      "text/plain": [
       "<Figure size 1600x800 with 1 Axes>"
      ]
     },
     "metadata": {},
     "output_type": "display_data"
    }
   ],
   "source": [
    "# Boxplot\n",
    "boxplot = func.iris.boxplot(figsize=(16,8), return_type='dict')"
   ]
  },
  {
   "cell_type": "markdown",
   "metadata": {},
   "source": [
    "Looking at the boxplot of the <i>sepal length (cm)</i>, the maximum point we distinguished earlier is shown to be way above the whiskers. <br>\n",
    "This indicates that this value, as it shows significant distance from the whiskers, concerns an outlier. <br>\n",
    "The points outside the whiskers of the <i>sepal width (mm)</i> will be discussed later on. <br>\n",
    "<br>\n",
    "To see if we have strongly correlated variables in the dataset, we can use the correlation matrix. <br>\n",
    "Adding strongly correlated variables to a Machine Learning (ML) model increases the complexity. <br>\n",
    "The increased complexity will thereafter require more computing power to train and use the model. <br> \n",
    "When leaving one of the strongly correlated variables out of a ML model increases the computation effeciency (higher dimensionallity) and doesn't effect the predictive power of the model significantly."
   ]
  },
  {
   "cell_type": "code",
   "execution_count": 11,
   "metadata": {},
   "outputs": [
    {
     "data": {
      "text/html": [
       "<div>\n",
       "<style scoped>\n",
       "    .dataframe tbody tr th:only-of-type {\n",
       "        vertical-align: middle;\n",
       "    }\n",
       "\n",
       "    .dataframe tbody tr th {\n",
       "        vertical-align: top;\n",
       "    }\n",
       "\n",
       "    .dataframe thead th {\n",
       "        text-align: right;\n",
       "    }\n",
       "</style>\n",
       "<table border=\"1\" class=\"dataframe\">\n",
       "  <thead>\n",
       "    <tr style=\"text-align: right;\">\n",
       "      <th></th>\n",
       "      <th>sepal length (cm)</th>\n",
       "      <th>sepal width (mm)</th>\n",
       "      <th>petal length (cm)</th>\n",
       "      <th>petal width (cm)</th>\n",
       "    </tr>\n",
       "  </thead>\n",
       "  <tbody>\n",
       "    <tr>\n",
       "      <th>sepal length (cm)</th>\n",
       "      <td>1.000000</td>\n",
       "      <td>-0.123984</td>\n",
       "      <td>0.209267</td>\n",
       "      <td>0.181358</td>\n",
       "    </tr>\n",
       "    <tr>\n",
       "      <th>sepal width (mm)</th>\n",
       "      <td>-0.123984</td>\n",
       "      <td>1.000000</td>\n",
       "      <td>-0.456184</td>\n",
       "      <td>-0.366126</td>\n",
       "    </tr>\n",
       "    <tr>\n",
       "      <th>petal length (cm)</th>\n",
       "      <td>0.209267</td>\n",
       "      <td>-0.456184</td>\n",
       "      <td>1.000000</td>\n",
       "      <td>0.963839</td>\n",
       "    </tr>\n",
       "    <tr>\n",
       "      <th>petal width (cm)</th>\n",
       "      <td>0.181358</td>\n",
       "      <td>-0.366126</td>\n",
       "      <td>0.963839</td>\n",
       "      <td>1.000000</td>\n",
       "    </tr>\n",
       "  </tbody>\n",
       "</table>\n",
       "</div>"
      ],
      "text/plain": [
       "                   sepal length (cm)  sepal width (mm)  petal length (cm)  \\\n",
       "sepal length (cm)           1.000000         -0.123984           0.209267   \n",
       "sepal width (mm)           -0.123984          1.000000          -0.456184   \n",
       "petal length (cm)           0.209267         -0.456184           1.000000   \n",
       "petal width (cm)            0.181358         -0.366126           0.963839   \n",
       "\n",
       "                   petal width (cm)  \n",
       "sepal length (cm)          0.181358  \n",
       "sepal width (mm)          -0.366126  \n",
       "petal length (cm)          0.963839  \n",
       "petal width (cm)           1.000000  "
      ]
     },
     "execution_count": 11,
     "metadata": {},
     "output_type": "execute_result"
    }
   ],
   "source": [
    "# Correlation Matrix\n",
    "func.iris.corr()"
   ]
  },
  {
   "cell_type": "markdown",
   "metadata": {},
   "source": [
    "Concluding from the matrix above, the values <i>petal length (cm)</i> and <i>petal width (cm)</i> show to be strongly correlated. <br>\n",
    "These values will be handled during the following <b>Data Preparation Phase</b>."
   ]
  },
  {
   "cell_type": "markdown",
   "metadata": {},
   "source": [
    "<hr>\n",
    "<h3> B. Data preparation </h3>\n",
    "<p>\n",
    "Before we apply Machine Learning (ML) algorithms to the data, we have to prepare it. <br>\n",
    "In the EDA we observed that there are missing values, outliers and a strong correlation between two columns. <br>\n",
    "However, besides the found characteristics, more steps can be needed to prepare the data. <br>\n",
    "The standard procedure consists of multiple so-called pillars, namely:\n",
    "<ol>\n",
    "    <li><b>Data integration</b> - Combining multiple data sources into one, handling data redundancy. </li>\n",
    "    <li><b>Data cleaning</b> - Remove outliers, impute missing values an handle data inconsistencies. </li>\n",
    "    <li><b>Data transformation</b> - Adjust numerical and categorical values to allow the model to work with them. </li>\n",
    "    <li><b>Data (feature) selection</b> - Select which values to include into your model. </li>\n",
    "    <li><b>Data reduction</b> - Simplify data where possible by for example producing aggregate values.</li>\n",
    "</ol>\n",
    "</p>"
   ]
  },
  {
   "cell_type": "markdown",
   "metadata": {},
   "source": [
    "<h7> <b> -- B1. Data Integration -- </b> </h7>\n",
    "\n",
    "If we would have had multiple datasets, this pillar would be used to join them into one. <br>\n",
    "Pandas has a function for this, which looks like this: <code>[DATAFRAME_1].merge([DATAFRAME_2])</code>. <br>\n",
    "As we only have data from a single source, we do not need to execute this data preparation pillar."
   ]
  },
  {
   "cell_type": "markdown",
   "metadata": {},
   "source": [
    "<h7> <b> -- B2. Data Cleaning -- </b> </h7>\n",
    "\n",
    "The cleaning pillar consists of different parts which all need to be adressed, namely:\n",
    "<ul>\n",
    "    <li> <b>Outliers</b>: Ouliers can be detected by for example the previously used boxplot visualisation. Such outliers can either be entirely removed or the actual value can be updated (for example by replacing it with the mean).</li>\n",
    "    <li> <b>Missing values</b>: As mentioned in the introduction of Section B, missing values are detected. Such missing values can be imputed, with for example the mean or median, or completely removed. </li>\n",
    "    <ul>\n",
    "        <li> <i> Pro removal: </i> A model trained with the removal of all missing values creates a robust model. </li>\n",
    "        <li> <i> Con removal: </i> If removed, all the information that is in the other columns is removed as well. This especially works poorly if the percentage of missing values is excessive in comparison to the complete records. </li>       \n",
    "    </ul>\n",
    "    <li> <b>Inconsistent data</b>: The unit metric for one column in the dataset is different, for example the inconsistent use of <i> mm </i> or <i> cm </i>. </li>\n",
    "</ul>"
   ]
  },
  {
   "cell_type": "code",
   "execution_count": 12,
   "metadata": {},
   "outputs": [
    {
     "name": "stdout",
     "output_type": "stream",
     "text": [
      "[array([60.3], dtype=object), array([20.0, 44.0, 41.0, 42.0], dtype=object), array([], dtype=object), array([], dtype=object)]\n"
     ]
    }
   ],
   "source": [
    "# Provide a list of all the points outside the boxplot\n",
    "print([item.get_ydata() for item in boxplot['fliers']])\n",
    "# --> Answer: [60.3, 20.0, 44.0, 41.0, 42.0]"
   ]
  },
  {
   "cell_type": "code",
   "execution_count": 13,
   "metadata": {},
   "outputs": [
    {
     "name": "stdout",
     "output_type": "stream",
     "text": [
      "Actual outlier: 60.3\n"
     ]
    }
   ],
   "source": [
    "# Provide the actual outlier from the boxplot:\n",
    "actual_outlier = 60.3\n",
    "print(f\"Actual outlier: {actual_outlier}\")"
   ]
  },
  {
   "cell_type": "markdown",
   "metadata": {},
   "source": [
    "Concluding from the retrieved values, the maximum value of the <i>sepal length (cm)</i> is clearly an outlier. <br>\n",
    "Not only does it stand out in the visualisation, it also is an impossible length of a flower. <br>\n",
    "Looking at the value we might consider that by accident an additional 0 is added when inserting the measurements. <br>\n",
    "For this reason we decide to not remove the entire record, but we only remove the 0 to prevent data to be lost. <br>\n",
    "The other values are not found te be an outlier. These datapoints fall within <math>1.5×IQR</math> and are not more above or below any whisker."
   ]
  },
  {
   "cell_type": "code",
   "execution_count": 14,
   "metadata": {},
   "outputs": [
    {
     "data": {
      "image/png": "[encoded data removed]",
      "text/plain": [
       "<Figure size 1600x800 with 1 Axes>"
      ]
     },
     "metadata": {},
     "output_type": "display_data"
    }
   ],
   "source": [
    "# Remove the actual outlier\n",
    "func.remove_0_in_outlier(outlier_value=actual_outlier)\n",
    "\n",
    "# Check in de boxplot dat er geen outliers meer zijn\n",
    "cleaned_boxplot = func.iris.boxplot(figsize=(16,8))"
   ]
  },
  {
   "cell_type": "markdown",
   "metadata": {},
   "source": [
    "For the upcoming part (missing values) we’ll be using <code>sklearn</code>, short for [Scikit-learn](https://scikit-learn.org/stable/). This is a free machine learning software library for the Python programming language. It also includes modules for the preparation of data. Feel free to visit this site for proper explanation and many other interesting modules. Here we implement k-Nearest Neighbors imputer for completing missing values using. Each sample’s missing values are imputed using the mean value from <code>n_neighbors</code> nearest neighbors found in the training set. Two samples are close if the features that neither is missing are close."
   ]
  },
  {
   "cell_type": "code",
   "execution_count": 13,
   "metadata": {},
   "outputs": [],
   "source": [
    "from sklearn.impute import KNNImputer\n",
    "\n",
    "# Load and set the K-Nearest Neighbours imputer\n",
    "imputer = KNNImputer(n_neighbors=3, weights=\"uniform\")\n",
    "\n",
    "# Fit to data, then transform it.\n",
    "func.iris.iloc[:, :-1] = imputer.fit_transform(func.iris.iloc[:, :-1])"
   ]
  },
  {
   "cell_type": "markdown",
   "metadata": {},
   "source": [
    "When we want to impute missing values based e.g. mean or median, the mean or median are usually only derived from the values in the training set because we want to avoid data leakage. If it applied to all data without separation to train & test, the transformed feature would seem to be better than it is since it contains information about the test set, information that won’t be available in the ongoing data. Model evaluations will be misleading if not handled correctly.\n",
    "<br>\n",
    "\n",
    "\n",
    "So every dataset that has missing values needs to be handled intelligently to create a robust model. One can use various methods on different features depending on how and what the data is about (e.g. categorical or numerical). Having domain knowledge about the dataset is important, which can give an insight into how to preprocess the data and handle missing values. \n",
    "<br>\n",
    "\n",
    "And finally tt was also seen that the metric for one type of species in the dataset is different. So we also need to transform the values in the same metric as all."
   ]
  },
  {
   "cell_type": "code",
   "execution_count": 14,
   "metadata": {},
   "outputs": [],
   "source": [
    "# De column in milimeters naar centimeters\n",
    "iris['SepalWidthMm'] = iris['SepalWidthMm'].apply(lambda x: x/10)\n",
    "\n",
    "# And rename the column\n",
    "iris = iris.rename(columns={'SepalWidthMm':'SepalWidthCm'})"
   ]
  },
  {
   "cell_type": "markdown",
   "metadata": {},
   "source": [
    "<h7> <b> -- B3. Data Transformation -- </b> </h7>\n",
    "\n",
    "Data is transformed to make it better-organized. Transformed data may be easier for both humans and computers to use/understand. Properly formatted and validated data improves data quality. Two types of data values can be transformed:\n",
    "<ul>\n",
    "    <li> Categorical values </li>\n",
    "    <ul>\n",
    "        <li> <i> Ordinal encoding: </i> Simply assigns an integer value to each category in the order they are encountered. </li>\n",
    "        <ul>\n",
    "            <li> Only really useful if there exist a natural order in categories because the model will consider one category to be ‘higher’ or ‘closer’ to another </li>   \n",
    "        </ul>\n",
    "        <li> <i> One-hot encoding: </i> Simply adds a new 0/1 feature for every category, having 1 (hot) if the sample has that category. </li>\n",
    "        <ul>\n",
    "            <li> Can explode if a column has lots of categories, causing issues with high dimensionality.  </li>   \n",
    "        </ul> \n",
    "    </ul>\n",
    "    <br>\n",
    "    <li> Numerical values </li>\n",
    "    <ul>\n",
    "        <li> <i> Normalization: </i> min-max, z-score, logarithm </li>\n",
    "        <li> <i> Discretize: </i> binning </li>       \n",
    "    </ul>\n",
    "</ul>\n",
    "<br>\n",
    "We want to transform the categorical column <i>State</i> as one-hot-encoded. <code>Pandas</code> has a <code>get_dummies</code> module in the library that comes in handy."
   ]
  },
  {
   "cell_type": "code",
   "execution_count": 15,
   "metadata": {},
   "outputs": [],
   "source": [
    "iris = pd.get_dummies(iris)"
   ]
  },
  {
   "cell_type": "markdown",
   "metadata": {},
   "source": [
    "Since we now don't have any categorical variables in the dataset anymore, the only transformation can be done on the numerical values. We could transform the data using the term of normalization or scaling. It is not strictly necessary to implement this in this dataset, but we do this to introduce you to all the techniques. Also some models need scaling because they are distances depend, meaning larger values are more dominant.\n",
    "<br>\n",
    "We'll be using min-max scaler that transforms features by scaling each feature to a given range. This estimator scales and translates each feature individually such that it is in the given range on the training set, e.g. between zero and one. <br>\n",
    "<br>\n",
    "$X_{new} = \\frac{X - x_{min}}{x_{max} - x_{min}} * (max - min) + min$"
   ]
  },
  {
   "cell_type": "code",
   "execution_count": 16,
   "metadata": {},
   "outputs": [],
   "source": [
    "from sklearn.preprocessing import MinMaxScaler\n",
    "\n",
    "# Robust scaling the data\n",
    "scaler = MinMaxScaler()\n",
    "\n",
    "# Fit to data, then scale it.\n",
    "iris[list(iris.columns)] = scaler.fit_transform(iris[list(iris.columns)])"
   ]
  },
  {
   "cell_type": "markdown",
   "metadata": {},
   "source": [
    "<h7> <b> -- B4. Data (Feature) Selection -- </b> </h7>\n",
    "\n",
    "It is import to reduce the input variable to your model by using only relevant data and getting rid of noise in data. There are many approaches, the most important are summerized below:\n",
    "<ul>\n",
    "    <li> Select features that are suitable for the task & algorithm. </li>\n",
    "    <li> <i> Ablation: </i> Iteratively try different subsets of features.  </li>\n",
    "    <li> Let the ML algorithm decide on the features. </li>   \n",
    "</ul>\n",
    "<br>\n",
    "We want to only use the columns that are important for our model. Since we observed a correlation between <i>PetalLengthCm</i> and <i>PetalWidthCm</i> we remove one of these columns. We also want to remove the <i>State_wet</i> and <i>State_dry</i> since in our data and business understanding gives us that the state (wet/dry) doesn't have any predictable value."
   ]
  },
  {
   "cell_type": "code",
   "execution_count": 17,
   "metadata": {},
   "outputs": [],
   "source": [
    "# Extra categorical feature en hier eruit knikkeren (State column) = Wet - Dry\n",
    "iris = iris.drop(['PetalWidthCm', 'State_wet', 'State_dry'], axis=1)"
   ]
  },
  {
   "cell_type": "markdown",
   "metadata": {},
   "source": [
    "<h7> <b> -- B5. Data Reduction -- </b> </h7>\n",
    "\n",
    "The final step is the transformation of data into a corrected, ordered, and simplified form. The purpose of data reduction can be two-fold:\n",
    "<ul>\n",
    "    <li> Reduce the number of data records by eliminating invalid data or produce summary data. </li>\n",
    "    <li> Statistics at different aggregation levels for various applications.  </li>\n",
    "</ul>\n",
    "<br>\n",
    "We leave this as it is."
   ]
  },
  {
   "cell_type": "markdown",
   "metadata": {},
   "source": [
    "<hr>\n",
    "<h3> C. Modelling </h3>\n",
    "<p>\n",
    "Once we prepared our data to be ready to be fed to the machine learning models. We’ll discussing two different types: \n",
    "<ol>\n",
    "    <li> <b>Unsupervised Learning</b> - Refers to the use of artificial intelligence (AI) algorithms to identify patterns in data sets containing data points that are neither classified nor labeled. </li>\n",
    "    <li> <b>Supervised Learning</b> - Refers to the use of artificial intelligence (AI) algorithms to learn a function from labeled training data that maps an input to an output based on example input-output pairs. </li>\n",
    "</ol>\n",
    "</p>"
   ]
  },
  {
   "cell_type": "markdown",
   "metadata": {},
   "source": [
    "<ol>\n",
    "    <li> <u> Unsupervised Learning </u> </li>\n",
    "</ol>\n",
    "We know that there are multiple species of the iris flower in the dataset. But these are neither classified nor labelled. We can therefore use an unsupervised learning algorithms to identify patterns in the dataset to see if we can identify the number of different species. Unsupervised algorithms are allowed to classify, label and/or group the data points contained within the dataset without having any external guidance in performing that task. We'll be using the following algorithm:\n",
    "<ul>\n",
    "    <li> <b>K-Means Clustering:</b> is an unsupervised classification algorithm, also called clusterization, that groups objects into <i>k</i> groups based on their characteristics. </li>\n",
    "</ul>"
   ]
  },
  {
   "cell_type": "code",
   "execution_count": 18,
   "metadata": {},
   "outputs": [
    {
     "name": "stderr",
     "output_type": "stream",
     "text": [
      "c:\\Users\\joepb\\anaconda3\\envs\\bootcamp\\lib\\site-packages\\sklearn\\cluster\\_kmeans.py:1332: UserWarning: KMeans is known to have a memory leak on Windows with MKL, when there are less chunks than available threads. You can avoid it by setting the environment variable OMP_NUM_THREADS=1.\n",
      "  warnings.warn(\n"
     ]
    },
    {
     "data": {
      "text/plain": [
       "<AxesSubplot:xlabel='SepalLengthCm', ylabel='SepalWidthCm'>"
      ]
     },
     "execution_count": 18,
     "metadata": {},
     "output_type": "execute_result"
    },
    {
     "data": {
      "image/png": "[encoded data removed]",
      "text/plain": [
       "<Figure size 640x480 with 2 Axes>"
      ]
     },
     "metadata": {},
     "output_type": "display_data"
    }
   ],
   "source": [
    "from sklearn.cluster import KMeans\n",
    "\n",
    "# Number of clusters\n",
    "k = 2\n",
    "\n",
    "# K-Means clustering\n",
    "kmean_model = KMeans(n_clusters=k)\n",
    "kmean_model.fit(iris)\n",
    "\n",
    "# Add predicted values to a new column in the DataFrame\n",
    "iris['k_means'] = kmean_model.predict(iris)\n",
    "\n",
    "# Plot the results in a 2D scatterplot with x='SepalLengthCm', y='SepalWidthCm'\n",
    "iris.plot.scatter(x='SepalLengthCm', y='SepalWidthCm', c='k_means', colormap='coolwarm')"
   ]
  },
  {
   "cell_type": "markdown",
   "metadata": {},
   "source": [
    "Try changing the number of clusters <code>k</code> and plot it again. You see that your clustering depends on the hyperparameter <code>k</code>."
   ]
  },
  {
   "cell_type": "markdown",
   "metadata": {},
   "source": [
    "<ol start=\"2\">\n",
    "    <li> <u> Supervised Learning </u> </li>\n",
    "</ol>\n",
    "We can create a supervised learning model, for e.g. a classification problem, by using samples belonging to two or more classes and we want to learn from already labelled data how to predict the class of unlabelled data. Think that we already have the correct information about the class of the iris. We can use the following algorithms to classify unlabelled data:\n",
    "<ul>\n",
    "    <li> <b>K-nearest neighbours:</b> . </li>\n",
    "    <li> <b>Support Vector Machine:</b> . </li>\n",
    "    <li> <b>RandomForestClassifier:</b> . </li>\n",
    "</ul>\n",
    "We now start with the beginning DataFrame and therefore exclude all our preprocessing steps. In the original DataFrame we append the 'variety' column found in the <i>target.csv</i> to this copied DataFrame. Tip: look at this [module](https://pandas.pydata.org/docs/reference/api/pandas.concat.html#pandas.concat/) in Pandas."
   ]
  },
  {
   "cell_type": "code",
   "execution_count": 19,
   "metadata": {},
   "outputs": [],
   "source": [
    "# Drop the 'k_means' result column\n",
    "fileName = \"iris_modified.csv\"\n",
    "iris_super = pd.read_csv(os.path.join(dataDir, fileName), delimiter=';')\n",
    "\n",
    "fileName = \"target.csv\"\n",
    "variety_column = pd.read_csv(os.path.join(dataDir, fileName), delimiter=';')\n",
    "iris_super = pd.concat([iris_super, variety_column], axis=1)"
   ]
  },
  {
   "cell_type": "markdown",
   "metadata": {},
   "source": [
    "In supervised learning we need to make a train & test split. We renounce the previous preprocessing steps because we want to avoid data leakage. This phenomena appears when data is leaked from the test set into the training set (training and test data is used e.g. to extract the mean of missing values). This induces a model that may be optimistic because we already give the training set some information about the test set.  <br>\n",
    "<br>\n",
    "![title](infoleak.png) <br>\n",
    "<br>\n",
    "We can create a test set and repeat all the previous data preprocessing steps. However, this is very labour intensive and ofcourse a smarter way of working is developed called <i>pipelines</i>. A pipeline is a combination of data transformation and learning algorithms. It has a fit, predict, and score method, just like any other learning algorithm and ensures that data transformations are applied correctly (no leakage). Such a pipeline combines multiple processing steps in a single estimator. However, it is order dependent since the last step should be the data transformation. In <b>B</b> we applied different operations to different columns. In pipelines we can also seperate this by creating different pipelines for each column. A pipeline doesn't include all the preprocessing steps; the outlier and Mm to Cm again needs to be done. "
   ]
  },
  {
   "cell_type": "code",
   "execution_count": 20,
   "metadata": {},
   "outputs": [
    {
     "data": {
      "text/html": [
       "<div>\n",
       "<style scoped>\n",
       "    .dataframe tbody tr th:only-of-type {\n",
       "        vertical-align: middle;\n",
       "    }\n",
       "\n",
       "    .dataframe tbody tr th {\n",
       "        vertical-align: top;\n",
       "    }\n",
       "\n",
       "    .dataframe thead th {\n",
       "        text-align: right;\n",
       "    }\n",
       "</style>\n",
       "<table border=\"1\" class=\"dataframe\">\n",
       "  <thead>\n",
       "    <tr style=\"text-align: right;\">\n",
       "      <th></th>\n",
       "      <th>SepalLengthCm</th>\n",
       "      <th>SepalWidthCm</th>\n",
       "      <th>PetalLengthCm</th>\n",
       "      <th>PetalWidthCm</th>\n",
       "      <th>State</th>\n",
       "      <th>variety</th>\n",
       "    </tr>\n",
       "  </thead>\n",
       "  <tbody>\n",
       "    <tr>\n",
       "      <th>0</th>\n",
       "      <td>5.1</td>\n",
       "      <td>3.5</td>\n",
       "      <td>1.4</td>\n",
       "      <td>0.2</td>\n",
       "      <td>wet</td>\n",
       "      <td>Setosa</td>\n",
       "    </tr>\n",
       "    <tr>\n",
       "      <th>1</th>\n",
       "      <td>4.9</td>\n",
       "      <td>3.0</td>\n",
       "      <td>1.4</td>\n",
       "      <td>0.2</td>\n",
       "      <td>dry</td>\n",
       "      <td>Setosa</td>\n",
       "    </tr>\n",
       "    <tr>\n",
       "      <th>2</th>\n",
       "      <td>4.7</td>\n",
       "      <td>3.2</td>\n",
       "      <td>1.3</td>\n",
       "      <td>0.2</td>\n",
       "      <td>dry</td>\n",
       "      <td>Setosa</td>\n",
       "    </tr>\n",
       "    <tr>\n",
       "      <th>3</th>\n",
       "      <td>4.6</td>\n",
       "      <td>3.1</td>\n",
       "      <td>1.5</td>\n",
       "      <td>0.2</td>\n",
       "      <td>wet</td>\n",
       "      <td>Setosa</td>\n",
       "    </tr>\n",
       "    <tr>\n",
       "      <th>4</th>\n",
       "      <td>5.0</td>\n",
       "      <td>3.6</td>\n",
       "      <td>1.4</td>\n",
       "      <td>0.2</td>\n",
       "      <td>dry</td>\n",
       "      <td>Setosa</td>\n",
       "    </tr>\n",
       "  </tbody>\n",
       "</table>\n",
       "</div>"
      ],
      "text/plain": [
       "   SepalLengthCm  SepalWidthCm  PetalLengthCm  PetalWidthCm State variety\n",
       "0            5.1           3.5            1.4           0.2   wet  Setosa\n",
       "1            4.9           3.0            1.4           0.2   dry  Setosa\n",
       "2            4.7           3.2            1.3           0.2   dry  Setosa\n",
       "3            4.6           3.1            1.5           0.2   wet  Setosa\n",
       "4            5.0           3.6            1.4           0.2   dry  Setosa"
      ]
     },
     "execution_count": 20,
     "metadata": {},
     "output_type": "execute_result"
    }
   ],
   "source": [
    "########### KAN IN FUNCTIE(S) DIE IN B GEMAAKT ZIJN ###################\n",
    "\n",
    "# De column in milimeters naar centimeters\n",
    "iris_super['SepalWidthMm'] = iris_super['SepalWidthMm'].apply(lambda x: x/10)\n",
    "\n",
    "# And rename the column\n",
    "iris_super = iris_super.rename(columns={'SepalWidthMm':'SepalWidthCm'})\n",
    "\n",
    "# Geef alle outliers weer :\n",
    "outlr = 50.4\n",
    "location_outlr = iris_super[iris_super['SepalLengthCm'] == 50.4].index[0]\n",
    "# Antwoord: zie dat alleen de 50.4 een outlier is\n",
    "# Verwijder de 0 in de outlier value en update the DataFrame\n",
    "# get index of first occurrence of '0'\n",
    "id = str(outlr).index('0')\n",
    "\n",
    "# remove the first occurrence of '0'\n",
    "new_value = float(str(outlr)[:id] + str(outlr)[id+1:])\n",
    "\n",
    "# Append the new value to the DataFrame\n",
    "iris_super.loc[location_outlr, 'SepalLengthCm'] = new_value\n",
    "\n",
    "iris_super.head()"
   ]
  },
  {
   "cell_type": "markdown",
   "metadata": {},
   "source": [
    "Since we don't have a large amount of data (150 rows) we'll use cross-validation. Cross-validation is a technique in which we train our model using the subset of the data-set and then evaluate using the complementary subset of the data-set. The data-set is split into <i>k</i> number of subsets (known as folds), then we perform training on the all the subsets but leave one (<i>k</i>-1) subset for the evaluation of the trained model. <br>\n",
    "<br>\n",
    "![title](cross-val.png) <br>\n",
    "<br>\n",
    "In this method, we iterate <i>k</i>=5 times with a different subset reserved for testing purpose each time. We then average the score of each fold to give its final score."
   ]
  },
  {
   "cell_type": "code",
   "execution_count": 24,
   "metadata": {},
   "outputs": [
    {
     "name": "stdout",
     "output_type": "stream",
     "text": [
      "Clf: KNeighborsClassifier ; and Test Scores: [0.96666667 0.96666667 0.9        0.93333333 1.        ] ; and Mean Test score: 0.953\n",
      "Clf: SVC ; and Test Scores: [0.9        0.96666667 0.93333333 0.93333333 1.        ] ; and Mean Test score: 0.947\n",
      "Clf: RandomForestClassifier ; and Test Scores: [0.96666667 0.96666667 0.93333333 0.9        1.        ] ; and Mean Test score: 0.953\n"
     ]
    }
   ],
   "source": [
    "from sklearn.model_selection import cross_val_score\n",
    "\n",
    "from sklearn.pipeline import make_pipeline, Pipeline\n",
    "from sklearn.compose import make_column_transformer\n",
    "\n",
    "from sklearn.preprocessing import OneHotEncoder\n",
    "\n",
    "from sklearn.neighbors import KNeighborsClassifier\n",
    "from sklearn.svm import SVC\n",
    "from sklearn.ensemble import RandomForestClassifier\n",
    "\n",
    "def make_pipe(imputer, scaler, encoder, clf):\n",
    "    # 2 sub-pipelines, one for numeric features, other for categorical ones\n",
    "    numeric_pipe = make_pipeline(KNNImputer(), MinMaxScaler())\n",
    "    categorical_pipe = make_pipeline(OneHotEncoder())\n",
    "\n",
    "    # Using categorical pipe for feature State, numeric pipe otherwise\n",
    "    preprocessor = make_column_transformer((categorical_pipe, [\"State\"]), \n",
    "                                            remainder=numeric_pipe)\n",
    "    \n",
    "    return Pipeline(steps=[('preprocess', preprocessor), ('clf', clf)])\n",
    "\n",
    "imputer = KNNImputer()\n",
    "scaler = MinMaxScaler()\n",
    "encoder = OneHotEncoder()\n",
    "classifiers = [KNeighborsClassifier(), SVC(), RandomForestClassifier()]\n",
    "\n",
    "X = iris_super.iloc[:, :-1]\n",
    "y = iris_super.variety\n",
    "\n",
    "# Test each different classifier\n",
    "for clf in classifiers:\n",
    "     # Combine with learning algorithm in another pipeline\n",
    "     pipe = make_pipe(imputer, scaler, encoder, clf)\n",
    "\n",
    "     scores = cross_val_score(pipe, X, y)\n",
    "     print(f\"Clf: {pipe['clf'].__class__.__name__} ; and Test Scores: {scores} ; and Mean Test score: {round(scores.mean(), 3)}\")\n",
    "\n",
    "\n",
    "\n",
    "\n",
    "\n",
    "\n",
    "# TODO: Maak keuze voor model en ga daarna door met enkel dit model"
   ]
  },
  {
   "cell_type": "markdown",
   "metadata": {},
   "source": [
    "<hr>\n",
    "<h3> D. Evaluation </h3>\n",
    "\n",
    "To check the accuracy of the model choose a metric that fits your application. There are many different evaluation metrics. \n",
    "<ol>\n",
    "    <li> <u> Supervised Learning </u> </li>\n",
    "</ol>"
   ]
  },
  {
   "cell_type": "code",
   "execution_count": 22,
   "metadata": {},
   "outputs": [
    {
     "data": {
      "text/html": [
       "<div>\n",
       "<style scoped>\n",
       "    .dataframe tbody tr th:only-of-type {\n",
       "        vertical-align: middle;\n",
       "    }\n",
       "\n",
       "    .dataframe tbody tr th {\n",
       "        vertical-align: top;\n",
       "    }\n",
       "\n",
       "    .dataframe thead th {\n",
       "        text-align: right;\n",
       "    }\n",
       "</style>\n",
       "<table border=\"1\" class=\"dataframe\">\n",
       "  <thead>\n",
       "    <tr style=\"text-align: right;\">\n",
       "      <th></th>\n",
       "      <th>SepalLengthCm</th>\n",
       "      <th>SepalWidthCm</th>\n",
       "      <th>PetalLengthCm</th>\n",
       "    </tr>\n",
       "  </thead>\n",
       "  <tbody>\n",
       "    <tr>\n",
       "      <th>0</th>\n",
       "      <td>0.222222</td>\n",
       "      <td>0.625000</td>\n",
       "      <td>0.067797</td>\n",
       "    </tr>\n",
       "    <tr>\n",
       "      <th>1</th>\n",
       "      <td>0.166667</td>\n",
       "      <td>0.416667</td>\n",
       "      <td>0.067797</td>\n",
       "    </tr>\n",
       "    <tr>\n",
       "      <th>2</th>\n",
       "      <td>0.111111</td>\n",
       "      <td>0.500000</td>\n",
       "      <td>0.050847</td>\n",
       "    </tr>\n",
       "    <tr>\n",
       "      <th>3</th>\n",
       "      <td>0.083333</td>\n",
       "      <td>0.458333</td>\n",
       "      <td>0.084746</td>\n",
       "    </tr>\n",
       "    <tr>\n",
       "      <th>4</th>\n",
       "      <td>0.194444</td>\n",
       "      <td>0.666667</td>\n",
       "      <td>0.067797</td>\n",
       "    </tr>\n",
       "  </tbody>\n",
       "</table>\n",
       "</div>"
      ],
      "text/plain": [
       "   SepalLengthCm  SepalWidthCm  PetalLengthCm\n",
       "0       0.222222      0.625000       0.067797\n",
       "1       0.166667      0.416667       0.067797\n",
       "2       0.111111      0.500000       0.050847\n",
       "3       0.083333      0.458333       0.084746\n",
       "4       0.194444      0.666667       0.067797"
      ]
     },
     "execution_count": 22,
     "metadata": {},
     "output_type": "execute_result"
    }
   ],
   "source": [
    "iris = iris.drop(columns=['k_means'])\n",
    "iris.head()"
   ]
  },
  {
   "cell_type": "markdown",
   "metadata": {},
   "source": [
    "We need to calculate SSE to evaluate K-Means clustering using Elbow Criterion. The idea of the Elbow Criterion method is to choose the <i>k</i> (no of cluster) at which the SSE decreases abruptly. The SSE is defined as the sum of the squared distance between each member of the cluster and its centroid. We therefore normalized the data because it calculates the distance between the features of a variable and the centroid. If we don't normalize the data when using unsupervised learning methods, there could be a distance bias. "
   ]
  },
  {
   "cell_type": "code",
   "execution_count": 23,
   "metadata": {},
   "outputs": [
    {
     "name": "stderr",
     "output_type": "stream",
     "text": [
      "c:\\Users\\joepb\\anaconda3\\envs\\bootcamp\\lib\\site-packages\\sklearn\\cluster\\_kmeans.py:1332: UserWarning: KMeans is known to have a memory leak on Windows with MKL, when there are less chunks than available threads. You can avoid it by setting the environment variable OMP_NUM_THREADS=1.\n",
      "  warnings.warn(\n",
      "c:\\Users\\joepb\\anaconda3\\envs\\bootcamp\\lib\\site-packages\\sklearn\\cluster\\_kmeans.py:1332: UserWarning: KMeans is known to have a memory leak on Windows with MKL, when there are less chunks than available threads. You can avoid it by setting the environment variable OMP_NUM_THREADS=1.\n",
      "  warnings.warn(\n",
      "c:\\Users\\joepb\\anaconda3\\envs\\bootcamp\\lib\\site-packages\\sklearn\\cluster\\_kmeans.py:1332: UserWarning: KMeans is known to have a memory leak on Windows with MKL, when there are less chunks than available threads. You can avoid it by setting the environment variable OMP_NUM_THREADS=1.\n",
      "  warnings.warn(\n",
      "c:\\Users\\joepb\\anaconda3\\envs\\bootcamp\\lib\\site-packages\\sklearn\\cluster\\_kmeans.py:1332: UserWarning: KMeans is known to have a memory leak on Windows with MKL, when there are less chunks than available threads. You can avoid it by setting the environment variable OMP_NUM_THREADS=1.\n",
      "  warnings.warn(\n",
      "c:\\Users\\joepb\\anaconda3\\envs\\bootcamp\\lib\\site-packages\\sklearn\\cluster\\_kmeans.py:1332: UserWarning: KMeans is known to have a memory leak on Windows with MKL, when there are less chunks than available threads. You can avoid it by setting the environment variable OMP_NUM_THREADS=1.\n",
      "  warnings.warn(\n",
      "c:\\Users\\joepb\\anaconda3\\envs\\bootcamp\\lib\\site-packages\\sklearn\\cluster\\_kmeans.py:1332: UserWarning: KMeans is known to have a memory leak on Windows with MKL, when there are less chunks than available threads. You can avoid it by setting the environment variable OMP_NUM_THREADS=1.\n",
      "  warnings.warn(\n",
      "c:\\Users\\joepb\\anaconda3\\envs\\bootcamp\\lib\\site-packages\\sklearn\\cluster\\_kmeans.py:1332: UserWarning: KMeans is known to have a memory leak on Windows with MKL, when there are less chunks than available threads. You can avoid it by setting the environment variable OMP_NUM_THREADS=1.\n",
      "  warnings.warn(\n"
     ]
    },
    {
     "data": {
      "image/png": "[encoded data removed]",
      "text/plain": [
       "<Figure size 1600x800 with 1 Axes>"
      ]
     },
     "metadata": {},
     "output_type": "display_data"
    }
   ],
   "source": [
    "import matplotlib.pyplot as plt\n",
    "\n",
    "distortions = []\n",
    "K = range(1,8)\n",
    "for k in K:\n",
    "    kmean_model = KMeans(n_clusters=k)\n",
    "    kmean_model.fit(iris)\n",
    "    # inertia measures how well a dataset was clustered by K-Means.\n",
    "    distortions.append(kmean_model.inertia_)\n",
    "\n",
    "def plot_clusters(K, distortions):\n",
    "    plt.figure(figsize=(16,8))\n",
    "    plt.plot(K, distortions, 'bx-')\n",
    "    plt.xlabel('k')\n",
    "    plt.ylabel('Distortion')\n",
    "    plt.title('The Elbow Method showing the optimal numbers of clusters')\n",
    "    plt.show()\n",
    "\n",
    "plot_clusters(K, distortions)"
   ]
  },
  {
   "cell_type": "markdown",
   "metadata": {},
   "source": [
    "The optimal <i>k</i> is therefore found the be at 3."
   ]
  },
  {
   "cell_type": "markdown",
   "metadata": {},
   "source": [
    "<ol start=\"2\">\n",
    "    <li> <u> Supervised Learning </u> </li>\n",
    "</ol>\n",
    "There are many different evaluation matrices in supervised learning. We'll start with saving each prediction of the test set (<code>y_pred</code>) of each classifier in a list (<code>y_predictions</code>).  "
   ]
  },
  {
   "cell_type": "code",
   "execution_count": 34,
   "metadata": {},
   "outputs": [],
   "source": [
    "from sklearn.model_selection import train_test_split\n",
    "from sklearn.metrics import classification_report\n",
    "\n",
    "X_train, X_test, y_train, y_test = train_test_split(X, y, random_state=3)\n",
    "y_predictions = []\n",
    "\n",
    "for clf in classifiers:\n",
    "    pipe = make_pipe(imputer, scaler, encoder, clf)\n",
    "    pipe.fit(X_train, y_train)\n",
    "\n",
    "    y_predictions.append(pipe.predict(X_test))"
   ]
  },
  {
   "cell_type": "markdown",
   "metadata": {},
   "source": [
    "Each classifier predicts from the test data as its argument and uses the trained model to return a series of the most likely label for each data point. We use a classification report + confusion matrix to evaluate our classifiers. \n",
    "\n",
    "<ul>\n",
    "    <li> <b>Precision:</b> . </li>\n",
    "    <li> <b>Recall:</b> . </li>\n",
    "    <li> <b>F1-score:</b> the harmonic mean of precision and recall. The scores corresponding to every class will tell you the accuracy of the classifier in classifying the data points in that particular class compared to all other classes. </li>\n",
    "    <li> <b>Support:</b> the number of samples of the true response that lie in that clas </li>\n",
    "</ul>\n",
    "<br>\n",
    "In the report also includes the macro average (averaging the unweighted mean per label) and weighted average (averaging the support-weighted mean per label)."
   ]
  },
  {
   "cell_type": "code",
   "execution_count": 37,
   "metadata": {},
   "outputs": [
    {
     "name": "stdout",
     "output_type": "stream",
     "text": [
      "              precision    recall  f1-score   support\n",
      "\n",
      "      Setosa       1.00      1.00      1.00        15\n",
      "  Versicolor       0.92      0.92      0.92        12\n",
      "   Virginica       0.91      0.91      0.91        11\n",
      "\n",
      "    accuracy                           0.95        38\n",
      "   macro avg       0.94      0.94      0.94        38\n",
      "weighted avg       0.95      0.95      0.95        38\n",
      "\n"
     ]
    },
    {
     "data": {
      "image/png": "[encoded data removed]",
      "text/plain": [
       "<Figure size 640x480 with 2 Axes>"
      ]
     },
     "metadata": {},
     "output_type": "display_data"
    },
    {
     "name": "stdout",
     "output_type": "stream",
     "text": [
      "              precision    recall  f1-score   support\n",
      "\n",
      "      Setosa       1.00      1.00      1.00        15\n",
      "  Versicolor       0.92      0.92      0.92        12\n",
      "   Virginica       0.91      0.91      0.91        11\n",
      "\n",
      "    accuracy                           0.95        38\n",
      "   macro avg       0.94      0.94      0.94        38\n",
      "weighted avg       0.95      0.95      0.95        38\n",
      "\n"
     ]
    },
    {
     "data": {
      "image/png": "[encoded data removed]",
      "text/plain": [
       "<Figure size 640x480 with 2 Axes>"
      ]
     },
     "metadata": {},
     "output_type": "display_data"
    },
    {
     "name": "stdout",
     "output_type": "stream",
     "text": [
      "              precision    recall  f1-score   support\n",
      "\n",
      "      Setosa       1.00      1.00      1.00        15\n",
      "  Versicolor       0.92      0.92      0.92        12\n",
      "   Virginica       0.91      0.91      0.91        11\n",
      "\n",
      "    accuracy                           0.95        38\n",
      "   macro avg       0.94      0.94      0.94        38\n",
      "weighted avg       0.95      0.95      0.95        38\n",
      "\n"
     ]
    },
    {
     "data": {
      "image/png": "[encoded data removed]",
      "text/plain": [
       "<Figure size 640x480 with 2 Axes>"
      ]
     },
     "metadata": {},
     "output_type": "display_data"
    }
   ],
   "source": [
    "from sklearn.metrics import classification_report, ConfusionMatrixDisplay\n",
    "\n",
    "def report(y_pred):\n",
    "    print(classification_report(y_test, y_pred, target_names=y.unique()))\n",
    "    \n",
    "    ConfusionMatrixDisplay.from_predictions(\n",
    "        y_test, y_pred, display_labels=y.unique(), xticks_rotation=\"vertical\"\n",
    "    )\n",
    "    plt.tight_layout()\n",
    "    plt.show()\n",
    "    \n",
    "for y_pred in y_predictions:\n",
    "    report(y_pred)"
   ]
  },
  {
   "cell_type": "markdown",
   "metadata": {},
   "source": []
  }
 ],
 "metadata": {
  "kernelspec": {
   "display_name": "Python 3.10.4 ('venv': venv)",
   "language": "python",
   "name": "python3"
  },
  "language_info": {
   "codemirror_mode": {
    "name": "ipython",
    "version": 3
   },
   "file_extension": ".py",
   "mimetype": "text/x-python",
   "name": "python",
   "nbconvert_exporter": "python",
   "pygments_lexer": "ipython3",
   "version": "3.10.4"
  },
  "orig_nbformat": 4,
  "vscode": {
   "interpreter": {
    "hash": "acc34b0575a7f16cdd3baafa50ebfc80b668b0c5be999b8d78070af1d779e7dc"
   }
  }
 },
 "nbformat": 4,
 "nbformat_minor": 2
}
