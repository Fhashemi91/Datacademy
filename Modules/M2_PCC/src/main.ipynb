{
 "cells": [
  {
   "cell_type": "markdown",
   "metadata": {},
   "source": [
    "<h1> Data Science Bootcamp Module 2 - Python Crash Course </h1>\n",
    "<hr>\n",
    "\n",
    "<p>\n",
    "    Throughout this module you will learn to work with the programming language SQL. <br>\n",
    "    We start working with a Jupiter Notebook in VSCode. <br>\n",
    "    You will be working throughout all the steps discussed in Easy-LMS.\n",
    "</p>"
   ]
  },
  {
   "cell_type": "markdown",
   "metadata": {},
   "source": [
    "<hr>\n",
    "<h3>A. Import libraries and Review Function. </h3>\n",
    "<p>\n",
    "Before starting to write code, first all Python libraries need to be imported. <br>\n",
    "We already pre-written some code to create some Review Function for you. <br>\n",
    "The Review Function object is called \"review\", which also allows you to check you answers. <br>\n",
    "To execute the Review Function you simple execute the code: <code>review.check_answer(answer=<i>[YOUR ANSWER HERE]</i>, exercise=<i>[YOUR EXERCISE HERE]</i>)</code>.\n",
    "</p>"
   ]
  },
  {
   "cell_type": "code",
   "execution_count": 1,
   "metadata": {},
   "outputs": [
    {
     "name": "stdout",
     "output_type": "stream",
     "text": [
      "c:\\Users\\joepb\\OneDrive\\Documenten\\Github\\Datacademy\n"
     ]
    }
   ],
   "source": [
    "%cd ../../.."
   ]
  },
  {
   "cell_type": "code",
   "execution_count": 2,
   "metadata": {},
   "outputs": [],
   "source": [
    "from Modules.M2_PCC.libs.reviewfunction import ReviewFunction\n",
    "review = ReviewFunction()"
   ]
  },
  {
   "cell_type": "markdown",
   "metadata": {},
   "source": [
    "<hr>\n",
    "<h3>B. Basic operations. </h3>\n",
    "<p>\n",
    "First we will explore the basic operations, namely Terms, Comparators, and Execution. <br>\n",
    "These operations form the basis of most Python code that you will write in the future. <br>\n",
    "The operations and their subcategories will be listed below:\n",
    "<ul>\n",
    "    <li> <b>Terms</b> - Variables, expressions and types . </li>\n",
    "    <li> <b>Comparators</b> - Comparators, and boolean expressions. </li>\n",
    "    <li> <b>Execution</b> - Sequence of statements. </li>\n",
    "</ul>\n",
    "If you paid attention in the Easy-LMS course, you'll be able to fly through the questions below. <br>\n",
    "Otherwise feel free to have the Course material close by.\n",
    "</p>"
   ]
  },
  {
   "cell_type": "markdown",
   "metadata": {},
   "source": [
    "<p>\n",
    "To answer the questions, replace the commented out code (<code>#INSERT THE ANSWER</code> and <code>#INSERT SOME CODE</code>) with your answer. <br>\n",
    "After you replaced it with your answer, simply run the cel by clicking in the cel and pressing \"<b>Shift + Enter</b>\". \n",
    "<ol>\n",
    "    <li> Find the length of a Boeing 747-100 in meters. </li>\n",
    "    <li> Find the height of an iPhone 12 in millimeters. </li>\n",
    "    <li> Retrieve the boolean using the comparator whether the length of the Boeing 747-100 is greater than the height of the iPhone 12. </li>\n",
    "    <li> Retrieve the boolean using the comparator whether the height of an iPhone 11 (150.9 mm) is not equal to the height of the iPhone 12. </li>\n",
    "    <li> Retrieve the string \"Yes\" if the heigth of the iPhone 12 fits over 500 times in the length of the Boeing 747-100 else retrieve the string \"No\". </li>\n",
    "</ol>\n",
    "<i>Tip: Use the variables defined in 1. and 2. to find the answers for the other questions (3., 4, and 5.). </i>\n",
    "</p>"
   ]
  },
  {
   "cell_type": "code",
   "execution_count": 3,
   "metadata": {},
   "outputs": [
    {
     "name": "stdout",
     "output_type": "stream",
     "text": [
      "This is indeed the correct size.\n"
     ]
    }
   ],
   "source": [
    "# Q_B1 = #INSERT THE ANSWER\n",
    "Q_B1 = 70.66\n",
    "\n",
    "review.check_answer(answer=Q_B1, exercise=\"B1\")"
   ]
  },
  {
   "cell_type": "code",
   "execution_count": 4,
   "metadata": {},
   "outputs": [
    {
     "name": "stdout",
     "output_type": "stream",
     "text": [
      "This is indeed the correct size.\n"
     ]
    }
   ],
   "source": [
    "# Q_B2 = #INSERT THE ANSWER\n",
    "Q_B2 = 146.7\n",
    "\n",
    "review.check_answer(answer=Q_B2, exercise=\"B2\")"
   ]
  },
  {
   "cell_type": "code",
   "execution_count": 5,
   "metadata": {},
   "outputs": [
    {
     "name": "stdout",
     "output_type": "stream",
     "text": [
      "You're indeed correct.\n"
     ]
    }
   ],
   "source": [
    "# Q_B3 = #INSERT THE ANSWER\n",
    "Q_B3 = (Q_B1 * 100 * 10) > Q_B2\n",
    "\n",
    "review.check_answer(answer=Q_B3, exercise=\"B3\")"
   ]
  },
  {
   "cell_type": "code",
   "execution_count": 6,
   "metadata": {},
   "outputs": [
    {
     "name": "stdout",
     "output_type": "stream",
     "text": [
      "You're indeed correct.\n"
     ]
    }
   ],
   "source": [
    "# Q_B4 = #INSERT THE ANSWER\n",
    "Q_B4 = 150.9 != Q_B2\n",
    "\n",
    "review.check_answer(answer=Q_B4, exercise=\"B4\")"
   ]
  },
  {
   "cell_type": "code",
   "execution_count": 7,
   "metadata": {},
   "outputs": [
    {
     "name": "stdout",
     "output_type": "stream",
     "text": [
      "You're indeed correct.\n"
     ]
    }
   ],
   "source": [
    "# if #INSERT SOME CODE:\n",
    "#     Q_B5 = #INSERT THE ANSWER\n",
    "# else:\n",
    "#     Q_B5 = #INSERT THE ANSWER\n",
    "Q_B5 = \"No\"\n",
    "\n",
    "review.check_answer(answer=Q_B4, exercise=\"B5\")"
   ]
  },
  {
   "cell_type": "markdown",
   "metadata": {},
   "source": [
    "<hr>\n",
    "<h3>C. Iterations and Functions. </h3>\n",
    "<p>\n",
    "Next we'll go through some more practical oriented subject in python called Iterations and Functions. <br>\n",
    "Both the subjects are widely applied in all sorts of Python code. <br>\n",
    "The discussed topics of each subject is listed below:\n",
    "<ul>\n",
    "    <li> <b>Iteration</b> - While loop and for loop. </li>\n",
    "    <li> <b>Function</b> - With and without return statement. </li>\n",
    "</ul>\n",
    "Iterator in Python is simply an object that can be iterated upon. There are different form of iterators (while and for loops). <br>\n",
    "A function is a block of code which only runs when it is called. You can pass data, known as parameters, into a function. A function can return data as a result.\n",
    "</p>"
   ]
  },
  {
   "cell_type": "markdown",
   "metadata": {},
   "source": [
    "<p>\n",
    "In these exercises you're going to use both the Iteration and Function separately but also combined, together with the previous learned operations. <br>\n",
    "Again, after replacement of <code>#YOUR ANSWER</code>, simply run the cel by clicking in the cel and pressing \"<b>Shift + Enter</b>\". \n",
    "<ol>\n",
    "    <li> Q1 of C </li>\n",
    "</ol>\n",
    "</p>"
   ]
  },
  {
   "cell_type": "code",
   "execution_count": 14,
   "metadata": {},
   "outputs": [],
   "source": [
    "Q_C1 = #YOUR ANSWER\n",
    "\n",
    "review.check_answer(answer=Q_C1, exercise=\"C1\")"
   ]
  },
  {
   "cell_type": "markdown",
   "metadata": {},
   "source": [
    "<h1> Congratulations!! </h1>\n",
    "<p>\n",
    "You completed all modules and tackled the basics of Python! <br>\n",
    "However, to have a final check, we build in a mechanism that will check whether your results show the desired outcome. <br>\n",
    "To kick off these tests, you only have to push this directory to the main Git branch. <br>\n",
    "This can be done using the following steps:\n",
    "<ol>\n",
    "    <li> Open the command prompt in VS Code by pressing <b>CTRL</b> + <b>`</b>. </li>\n",
    "    <li> Write the command <code>git status</code> to check which differences there are between your current and the master branch. </li>\n",
    "    <li> Write the command <code>git add Modules/M2_PCC/</code> to add the main notebook to the staging lane. </li>\n",
    "    <li> Write the command <code>git commit -m \"<i>[INSERT COMMIT MESSAGE]</i>\"</code> to commit the staged changes and adding a descriptive commit message. </li>\n",
    "    <li> Finally, write the command <code>git push</code> to push the staged changes to the master branch. </li>\n",
    "    <li> Upon pushing the changes, the PyTest modules will be run to check your answers, for which an overview is generated in your Github </li>\n",
    "</ol>\n",
    "If you pass all tests, feel free to continue to our next module, <b>Module 3: Structured Query Language (SQL)</b>.\n",
    "</p>"
   ]
  }
 ],
 "metadata": {
  "kernelspec": {
   "display_name": "Python 3.10.4 ('bootcamp')",
   "language": "python",
   "name": "python3"
  },
  "language_info": {
   "codemirror_mode": {
    "name": "ipython",
    "version": 3
   },
   "file_extension": ".py",
   "mimetype": "text/x-python",
   "name": "python",
   "nbconvert_exporter": "python",
   "pygments_lexer": "ipython3",
   "version": "3.10.4"
  },
  "orig_nbformat": 4,
  "vscode": {
   "interpreter": {
    "hash": "b4079134c0179285e3a55d2e425b94f441ed12cd55a998c83f6f5077fa904635"
   }
  }
 },
 "nbformat": 4,
 "nbformat_minor": 2
}
