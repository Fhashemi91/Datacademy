{
 "cells": [
  {
   "cell_type": "markdown",
   "metadata": {},
   "source": [
    "<h1> Data Science Bootcamp Module 2 - Python Crash Course </h1>\n",
    "<hr>\n",
    "\n",
    "<p>\n",
    "    Throughout this module you will learn to work with the programming language SQL. <br>\n",
    "    We start working with a Jupiter Notebook in VSCode. <br>\n",
    "    You will be working throughout all the steps discussed in Easy-LMS.\n",
    "</p>"
   ]
  },
  {
   "cell_type": "markdown",
   "metadata": {},
   "source": [
    "<hr>\n",
    "<h3>A. Import libraries and Review Function. </h3>\n",
    "<p>\n",
    "Before starting to write code, first all Python libraries need to be imported. <br>\n",
    "We already pre-written some code to create some Review Function for you. <br>\n",
    "The Review Function object is called \"review\", which also allows you to check you answers. <br>\n",
    "To execute the Review Function you simple execute the code: <code>review.check_answer(answer=<i>[YOUR ANSWER HERE]</i>, exercise=<i>[YOUR EXERCISE HERE]</i>)</code>.\n",
    "</p>"
   ]
  },
  {
   "cell_type": "code",
   "execution_count": 1,
   "metadata": {},
   "outputs": [
    {
     "name": "stdout",
     "output_type": "stream",
     "text": [
      "c:\\Users\\joepb\\OneDrive\\Documenten\\Github\\Datacademy\n"
     ]
    }
   ],
   "source": [
    "%cd ../../.."
   ]
  },
  {
   "cell_type": "code",
   "execution_count": 2,
   "metadata": {},
   "outputs": [],
   "source": [
    "from Modules.M2_PCC.libs.reviewfunction import ReviewFunction\n",
    "review = ReviewFunction()"
   ]
  },
  {
   "cell_type": "markdown",
   "metadata": {},
   "source": [
    "<hr>\n",
    "<h3>B. Basic operations. </h3>\n",
    "<p>\n",
    "First we will explore the basic operations, namely Terms, Comparators, and Execution. <br>\n",
    "These operations form the basis of most Python code that you will write in the future. <br>\n",
    "The operations and their subcategories will be listed below:\n",
    "<ul>\n",
    "    <li> <b>Terms</b> - Variables, expressions and types . </li>\n",
    "    <li> <b>Comparators</b> - Comparators, and boolean expressions. </li>\n",
    "    <li> <b>Execution</b> - Sequence of statements. </li>\n",
    "</ul>\n",
    "If you paid attention in the Easy-LMS course, you'll be able to fly through the questions below. <br>\n",
    "Otherwise feel free to have the Course material close by.\n",
    "</p>"
   ]
  },
  {
   "cell_type": "markdown",
   "metadata": {},
   "source": [
    "<p>\n",
    "To answer the questions, replace the commented out code (<code>#INSERT THE ANSWER</code> and <code>#INSERT SOME CODE</code>) with your answer. <br>\n",
    "After you replaced it with your answer, simply run the cel by clicking in the cel and pressing \"<b>Shift + Enter</b>\". \n",
    "<ol>\n",
    "    <li> Find the length of a Boeing 747-100 in meters. </li>\n",
    "    <li> Find the height of an iPhone 12 in millimeters. </li>\n",
    "    <li> Retrieve the boolean using the comparator whether the length of the Boeing 747-100 is greater than the height of the iPhone 12. </li>\n",
    "    <li> Retrieve the boolean using the comparator whether the height of an iPhone 11 (150.9 mm) is not equal to the height of the iPhone 12. </li>\n",
    "    <li> Retrieve the string \"Yes\" if the heigth of the iPhone 12 fits over 500 times in the length of the Boeing 747-100 else retrieve the string \"No\". </li>\n",
    "</ol>\n",
    "<i>Tip: Use the variables defined in 1. and 2. to find the answers for the other questions (3., 4, and 5.). </i>\n",
    "</p>"
   ]
  },
  {
   "cell_type": "code",
   "execution_count": 3,
   "metadata": {},
   "outputs": [
    {
     "name": "stdout",
     "output_type": "stream",
     "text": [
      "This is indeed the correct size.\n"
     ]
    }
   ],
   "source": [
    "# Q_B1 = #INSERT THE ANSWER\n",
    "Q_B1 = 70.66\n",
    "\n",
    "review.check_answer(answer=Q_B1, exercise=\"B1\")"
   ]
  },
  {
   "cell_type": "code",
   "execution_count": 4,
   "metadata": {},
   "outputs": [
    {
     "name": "stdout",
     "output_type": "stream",
     "text": [
      "This is indeed the correct size.\n"
     ]
    }
   ],
   "source": [
    "# Q_B2 = #INSERT THE ANSWER\n",
    "Q_B2 = 146.7\n",
    "\n",
    "review.check_answer(answer=Q_B2, exercise=\"B2\")"
   ]
  },
  {
   "cell_type": "code",
   "execution_count": 5,
   "metadata": {},
   "outputs": [
    {
     "name": "stdout",
     "output_type": "stream",
     "text": [
      "You're indeed correct.\n"
     ]
    }
   ],
   "source": [
    "# Q_B3 = #INSERT THE ANSWER\n",
    "Q_B3 = (Q_B1 * 100 * 10) > Q_B2\n",
    "\n",
    "review.check_answer(answer=Q_B3, exercise=\"B3\")"
   ]
  },
  {
   "cell_type": "code",
   "execution_count": 6,
   "metadata": {},
   "outputs": [
    {
     "name": "stdout",
     "output_type": "stream",
     "text": [
      "You're indeed correct.\n"
     ]
    }
   ],
   "source": [
    "# Q_B4 = #INSERT THE ANSWER\n",
    "Q_B4 = 150.9 != Q_B2\n",
    "\n",
    "review.check_answer(answer=Q_B4, exercise=\"B4\")"
   ]
  },
  {
   "cell_type": "code",
   "execution_count": 7,
   "metadata": {},
   "outputs": [
    {
     "name": "stdout",
     "output_type": "stream",
     "text": [
      "You're indeed correct.\n"
     ]
    }
   ],
   "source": [
    "# if #INSERT SOME CODE:\n",
    "#     Q_B5 = #INSERT THE ANSWER\n",
    "# else:\n",
    "#     Q_B5 = #INSERT THE ANSWER\n",
    "Q_B5 = \"No\"\n",
    "\n",
    "review.check_answer(answer=Q_B4, exercise=\"B5\")"
   ]
  },
  {
   "cell_type": "markdown",
   "metadata": {},
   "source": [
    "<hr>\n",
    "<h3>C. Iterations and Functions. </h3>\n",
    "<p>\n",
    "Next we'll go through some more practical oriented subject in python called Iterations and Functions. <br>\n",
    "Both the subjects are widely applied in all sorts of Python code. <br>\n",
    "The discussed topics of each subject is listed below:\n",
    "<ul>\n",
    "    <li> <b>Iteration</b> - While loop and for loop. </li>\n",
    "    <li> <b>Function</b> - With and without return statement. </li>\n",
    "</ul>\n",
    "Iterator in Python is simply an object that can be iterated upon. There are different form of iterators (while and for loops). <br>\n",
    "A function is a block of code which only runs when it is called. You can pass data, known as parameters, into a function. A function can return data as a result.\n",
    "</p>"
   ]
  },
  {
   "cell_type": "markdown",
   "metadata": {},
   "source": [
    "<p>\n",
    "In these exercises you're going to use both the Iteration and Function separately but also combined, together with the previous learned operations. <br>\n",
    "Again, after replacement of <code>#YOUR ANSWER</code>, simply run the cel by clicking in the cel and pressing \"<b>Shift + Enter</b>\". \n",
    "<ol>\n",
    "    <li> Create a program that prints every number up to 33 that can be devided by 3 using a while loop.</li>\n",
    "</ol>\n",
    "<i>Tip: Remember the modulus (<code>%</code>) operator</i>\n",
    "<ol start=\"2\">\n",
    "    <li> The temperature in Fahrenheit equals the temperature in Celsius * 1.8 + 32. Print the temperatures in Celsius from -5 to 45 (inclusive) in steps of 5 degrees and the corresponding temperatures in Fahrenheit. </li>\n",
    "</ol>\n",
    "<i>Tips: Remember the <code>range()</code> function; You can print multiple variables by seperating them with a comma (<code>print(var1, var2)</code>)</i>\n",
    "<ol start=\"3\">\n",
    "    <li> Given <code>a = 10</code> and <code>i = 5</code> print <code>a</code> as long as <code>i</code> is less or equal to <code>a</code>. And after each iteration we decrease the value of <code>a</code> by 1. This to stop the while loop from executing infinite times because <code>i</code> will always remain smaller than <code>a</code>. </li>\n",
    "    <li> Given <code>lst = [5, 10, 20]</code> print each value multiplied by <code>1.5</code>. </li>\n",
    "</ol>\n",
    "</p>"
   ]
  },
  {
   "cell_type": "code",
   "execution_count": 10,
   "metadata": {},
   "outputs": [
    {
     "name": "stdout",
     "output_type": "stream",
     "text": [
      "3\n",
      "6\n",
      "9\n",
      "12\n",
      "15\n",
      "18\n",
      "21\n",
      "24\n",
      "27\n",
      "30\n",
      "33\n"
     ]
    }
   ],
   "source": [
    "number = 1\n",
    "\n",
    "while number <= 33:\n",
    "    if number % 3 == 0:\n",
    "        print(number)\n",
    "    number= number + 1\n",
    "\n",
    "Q_C1 = #YOUR ANSWER\n",
    "\n",
    "review.check_answer(answer=Q_C1, exercise=\"C1\")"
   ]
  },
  {
   "cell_type": "code",
   "execution_count": null,
   "metadata": {},
   "outputs": [],
   "source": [
    "review.eval_answer()"
   ]
  },
  {
   "cell_type": "code",
   "execution_count": 9,
   "metadata": {},
   "outputs": [
    {
     "name": "stdout",
     "output_type": "stream",
     "text": [
      "-5 23.0\n",
      "0 32.0\n",
      "5 41.0\n",
      "10 50.0\n",
      "15 59.0\n",
      "20 68.0\n",
      "25 77.0\n",
      "30 86.0\n",
      "35 95.0\n",
      "40 104.0\n",
      "45 113.0\n"
     ]
    }
   ],
   "source": [
    "for celsius in range(-5, 50, 5):\n",
    "    fahrenheit = celsius * 1.8 + 32\n",
    "    print(celsius, fahrenheit)\n",
    "\n",
    "# Q_C2 = #YOUR ANSWER\n",
    "\n",
    "# review.check_answer(answer=Q_C2, exercise=\"C2\")"
   ]
  },
  {
   "cell_type": "code",
   "execution_count": 6,
   "metadata": {},
   "outputs": [
    {
     "name": "stdout",
     "output_type": "stream",
     "text": [
      "10\n",
      "9\n",
      "8\n",
      "7\n",
      "6\n",
      "5\n"
     ]
    }
   ],
   "source": [
    "def while_function(a, i):\n",
    "    while i <= a:\n",
    "        print(a)\n",
    "        a = a - 1\n",
    "\n",
    "while_function(10, 5)\n",
    "Q_C3 = #YOUR ANSWER\n",
    "\n",
    "review.check_answer(answer=Q_C3, exercise=\"C3\")"
   ]
  },
  {
   "cell_type": "code",
   "execution_count": 7,
   "metadata": {},
   "outputs": [
    {
     "name": "stdout",
     "output_type": "stream",
     "text": [
      "7.5\n",
      "15.0\n",
      "30.0\n"
     ]
    }
   ],
   "source": [
    "def list_function(lst):\n",
    "    for l in lst:\n",
    "        print(l * 1.5)\n",
    "\n",
    "list_function([5, 10, 20])\n",
    "Q_C4 = #YOUR ANSWER\n",
    "\n",
    "review.check_answer(answer=Q_C4, exercise=\"C4\")"
   ]
  },
  {
   "cell_type": "markdown",
   "metadata": {},
   "source": [
    "<hr>\n",
    "<h3>D. Pre-defined Functions. </h3>\n",
    "<p>\n",
    "Here, we're are working with all different kind of pre-defined methods in Python for strings, lists, and dictionaries. <br>\n",
    "The discussed methods are listed below:\n",
    "<ul>\n",
    "    <li> <b>String methods</b> - slicing, replacing, splitting, and endswith.</li>\n",
    "    <li> <b>List methods</b> - appending and removing.</li>\n",
    "    <li> <b>Dictionarie methods</b> - keys, values, and slicing.</li>\n",
    "</ul>\n",
    "All string methods returns new values. They do not change the original string. <br>\n",
    "Python does not have built-in support for Arrays, but Python Lists can be used instead. <br>\n",
    "Dictionary is a collection which is ordered, changeable and do not allow duplicates.\n",
    "</p>"
   ]
  },
  {
   "cell_type": "markdown",
   "metadata": {},
   "source": [
    "<p>\n",
    "In these exercises you're going to use all the methods together with your previous learned skills. <br>\n",
    "Again, after replacement of <code>#YOUR ANSWER</code>, simply run the cel by clicking in the cel and pressing \"<b>Shift + Enter</b>\". \n",
    "<ol>\n",
    "    <li> Write a Python function called <code>string_change_char(str1)</code> to get a string from a given string where all occurrences of its first char have been changed to '&', except the first char itself. </li>\n",
    "    <li> Write a Python function called <code>words_endswith(str2)</code> to get the number of times a word in the string ends with a 's'.</li>\n",
    "    <li> Write a Python function <code>remove_dups(ls)</code> that removes duplicates from a list. It should not change the order of the list. </li>\n",
    "    <li> Write a Python function <code>powers(n)</code> that generates a dictionary whereby the keys are a number <code>i</code> (between 1 and n) and the respective values are <code>i^3</code> (i.e. the dictionary entries are of the form <code>i: i^3</code> )  </li>\n",
    "</ol>\n",
    "<i>Tip: The key of a dictionary doesn't have to be a string value, it can also be an integer.</i>\n",
    "<ol start=\"3\">\n",
    "\n",
    "</ol>\n",
    "</p>"
   ]
  },
  {
   "cell_type": "code",
   "execution_count": 14,
   "metadata": {},
   "outputs": [
    {
     "name": "stdout",
     "output_type": "stream",
     "text": [
      "True\n",
      "True\n"
     ]
    }
   ],
   "source": [
    "def string_change_char(str1):  \n",
    "    char = str1[0]  \n",
    "    str1 = str1.replace(char, '&')  \n",
    "    return char + str1[1:]  \n",
    "\n",
    "# All statements below should be True\n",
    "print(string_change_char('t') == 't')\n",
    "print(string_change_char('testnet') == 'tes&ne&')"
   ]
  },
  {
   "cell_type": "code",
   "execution_count": 23,
   "metadata": {},
   "outputs": [
    {
     "name": "stdout",
     "output_type": "stream",
     "text": [
      "True\n",
      "True\n"
     ]
    }
   ],
   "source": [
    "def words_endswith(str2):\n",
    "    count = 0\n",
    "    for word in str2.split():\n",
    "        if word.endswith('s'):\n",
    "            count += 1\n",
    "    return count\n",
    "\n",
    "# All statements below should be True\n",
    "print(words_endswith('This is the string!') == 2)\n",
    "print(words_endswith('Nothing ending with that letter.') == 0)"
   ]
  },
  {
   "cell_type": "code",
   "execution_count": 24,
   "metadata": {},
   "outputs": [
    {
     "name": "stdout",
     "output_type": "stream",
     "text": [
      "True\n"
     ]
    }
   ],
   "source": [
    "def remove_dups(ls):\n",
    "    unique_items = []\n",
    "    for e in ls:\n",
    "        if e not in unique_items:\n",
    "            unique_items.append(e)\n",
    "    return unique_items\n",
    "\n",
    "# The following statement should be True \n",
    "print(remove_dups([10,20,30,20,10,50,60,40,80,50,40]) == [10,20,30,50,60,40,80])  "
   ]
  },
  {
   "cell_type": "code",
   "execution_count": 25,
   "metadata": {},
   "outputs": [
    {
     "name": "stdout",
     "output_type": "stream",
     "text": [
      "True\n"
     ]
    }
   ],
   "source": [
    "def powers(n):\n",
    "    d = dict()\n",
    "    for x in range(1, n+1):\n",
    "        d[x]=x**3\n",
    "    return d\n",
    "\n",
    "# The following statement should be True \n",
    "print(powers(5) == {1: 1, 2: 8, 3: 27, 4: 64, 5: 125})"
   ]
  },
  {
   "cell_type": "markdown",
   "metadata": {},
   "source": [
    "<hr>\n",
    "<h3>D. Import Functions. </h3>\n",
    "<p>\n",
    "The libraries we're going to use are not standard in your Python toolbox. These functions need to be imported. <br>\n",
    "There are many importable Python libraries including NumPy, Pandas, and Matplotlib. <br>\n",
    "In the course, we've discussed these import libraries. Here, you need to use some of the operators:\n",
    "<ul>\n",
    "    <li> <b>NumPy</b> - creating, slicing, and modificating.</li>\n",
    "    <li> <b>Pandas</b> - creating, slicing, renaming, and dropping. </li>\n",
    "    <li> <b>Matplotlib</b> - scatter, limit, titles, legend.</li>\n",
    "</ul>\n",
    "</p>"
   ]
  },
  {
   "cell_type": "markdown",
   "metadata": {},
   "source": [
    "<p>\n",
    "In these exercises you're going to use all sorts of import functions. <br>\n",
    "Again, after replacement of <code>#YOUR ANSWER</code>, simply run the cel by clicking in the cel and pressing \"<b>Shift + Enter</b>\". \n",
    "<ol>\n",
    "    <li> Create a numpy array called ages having the structure and content of the following table: </li>\n",
    "</ol>\n",
    "&emsp; &emsp; &emsp; 7 &emsp; 3 &emsp; 2 <br>\n",
    "&emsp; &emsp; &emsp; 8 &emsp; 5 &emsp; 2 <br>\n",
    "&emsp; &emsp; &emsp; 1 &emsp; 9 &emsp; 12 <br>\n",
    "<ol start=\"2\">\n",
    "    <li> Select the second column and find the highest age. Print the result (which is 9). </li>\n",
    "    <li> A year later everyone is a year older: add 1 to all values and print the result. The result should be saved as a new_ages numpy array and printed:  </li>\n",
    "</ol>\n",
    "&emsp; &emsp; &emsp; 8 &emsp; 4 &emsp; 3 <br>\n",
    "&emsp; &emsp; &emsp; 9 &emsp; 6 &emsp; 3 <br>\n",
    "&emsp; &emsp; &emsp; 2 &emsp; 10 &emsp; 13 <br>\n",
    "<br>\n",
    "We already stored some data into a DataFrame for you. The DataFrame can be called by <code>review.pandas_dataframe</code>. \n",
    "<ol start=\"4\">\n",
    "    <li> Create a new variable called <code>df_157</code> with a DataFrame with the columns <code>['column_1', 'column_5','column_7']</code>. </li>\n",
    "    <li> Create a new variable called <code>df_2</code> from <code>df_157</code> where you rename 'column_5' to 'column_2' and remove 'column_7' from the DataFrame. Printing <code>df_12.head(2) will give you:</code></li>\n",
    "</ol>\n",
    "&emsp; &emsp; &emsp;  &emsp; <b>column_1</b> &emsp; <b>column_2</b>  <br>\n",
    "&emsp; &emsp; &emsp; 0 &emsp; 0.050680 &emsp; -0.034821 <br>\n",
    "&emsp; &emsp; &emsp; 1 &emsp; -0.044642 &emsp; -0.019163 <br>\n",
    "<ol start=\"6\">\n",
    "    <li> Plot each column as a [scatter plot](https://matplotlib.org/stable/api/_as_gen/matplotlib.pyplot.scatter.html) in one plot, so <code>y1 = column_1</code> and <code>y2 = column_2</code>. The x-values for both the plots can be accessed by <code>x = review.data.target</code>. Extra additions to your plot should be: Adjust the range of y axis to -0.25 to 0.25, plot the column_1 as a green dots, add a legend on the upper right corner for each line (column_2 for red dots and column_1 for green dots), give each axis a title called 'x-axis' and 'y-axis', and finish your plot with a title 'My first plot of column 1 and 2'.\n",
    "</ol>\n",
    "<i>Tip: Try replacing <code>plt.plot</code> for <code>plt.scatter</code>.</i>\n",
    "</p>"
   ]
  },
  {
   "cell_type": "code",
   "execution_count": null,
   "metadata": {},
   "outputs": [],
   "source": [
    "import numpy as np\n",
    "import pandas as pd\n",
    "import matplotlib.pyplot as plt"
   ]
  },
  {
   "cell_type": "code",
   "execution_count": null,
   "metadata": {},
   "outputs": [],
   "source": [
    "# 1) Create ages numpy \n",
    "ages = np.array([[7,3,2],[8,5,2],[1,9,12]])"
   ]
  },
  {
   "cell_type": "code",
   "execution_count": null,
   "metadata": {},
   "outputs": [],
   "source": [
    "# 2) Select second column\n",
    "second= ages[:,1]\n",
    "\n",
    "print(\"Second is\", second)\n",
    "\n",
    "# find highest age\n",
    "maximum_age=max(second)\n",
    "print(\"Maximum age is\", maximum_age)"
   ]
  },
  {
   "cell_type": "code",
   "execution_count": null,
   "metadata": {},
   "outputs": [],
   "source": [
    "# 3) increment by 1\n",
    "new_ages=ages+1\n",
    "print(\"New ages are:\\n\", new_ages)"
   ]
  },
  {
   "cell_type": "code",
   "execution_count": 13,
   "metadata": {},
   "outputs": [],
   "source": [
    "# 4) Create the new df\n",
    "df = review.pandas_data\n",
    "df_157 = df[['column_1', 'column_5','column_7']]"
   ]
  },
  {
   "cell_type": "code",
   "execution_count": 15,
   "metadata": {},
   "outputs": [
    {
     "data": {
      "text/html": [
       "<div>\n",
       "<style scoped>\n",
       "    .dataframe tbody tr th:only-of-type {\n",
       "        vertical-align: middle;\n",
       "    }\n",
       "\n",
       "    .dataframe tbody tr th {\n",
       "        vertical-align: top;\n",
       "    }\n",
       "\n",
       "    .dataframe thead th {\n",
       "        text-align: right;\n",
       "    }\n",
       "</style>\n",
       "<table border=\"1\" class=\"dataframe\">\n",
       "  <thead>\n",
       "    <tr style=\"text-align: right;\">\n",
       "      <th></th>\n",
       "      <th>column_1</th>\n",
       "      <th>column_2</th>\n",
       "    </tr>\n",
       "  </thead>\n",
       "  <tbody>\n",
       "    <tr>\n",
       "      <th>0</th>\n",
       "      <td>0.050680</td>\n",
       "      <td>-0.034821</td>\n",
       "    </tr>\n",
       "    <tr>\n",
       "      <th>1</th>\n",
       "      <td>-0.044642</td>\n",
       "      <td>-0.019163</td>\n",
       "    </tr>\n",
       "  </tbody>\n",
       "</table>\n",
       "</div>"
      ],
      "text/plain": [
       "   column_1  column_2\n",
       "0  0.050680 -0.034821\n",
       "1 -0.044642 -0.019163"
      ]
     },
     "execution_count": 15,
     "metadata": {},
     "output_type": "execute_result"
    }
   ],
   "source": [
    "# 5) Rename\n",
    "df_12 = df_157.rename(columns = {'column_5': 'column_2'})\n",
    "\n",
    "# Remove\n",
    "df_12 = df_12.drop(['column_7'], axis = 1)\n",
    "\n",
    "# Print\n",
    "df_12.head(2)"
   ]
  },
  {
   "cell_type": "code",
   "execution_count": 20,
   "metadata": {},
   "outputs": [
    {
     "data": {
      "image/png": "[encoded data removed]",
      "text/plain": [
       "<Figure size 640x480 with 1 Axes>"
      ]
     },
     "metadata": {},
     "output_type": "display_data"
    }
   ],
   "source": [
    "# 6) Plotting\n",
    "import matplotlib.pyplot as plt\n",
    "\n",
    "X = review.data.target\n",
    "Y = df_12['column_1'].tolist()\n",
    "Y1 = df_12['column_2'].tolist()\n",
    "\n",
    "plt.scatter(X, Y, color=\"green\", label=\"Column 1\")\n",
    "plt.scatter(X, Y1, color=\"red\", label=\"Column 2\")\n",
    "\n",
    "plt.ylim(-0.25,0.25)\n",
    "\n",
    "plt.title(\"My first plot of column 1 and 2\", fontsize=20)\n",
    "plt.xlabel('x-axis')\n",
    "plt.ylabel('y-axis')\n",
    "\n",
    "plt.legend(loc='upper right')\n",
    "plt.show()"
   ]
  },
  {
   "cell_type": "markdown",
   "metadata": {},
   "source": [
    "<h1> Congratulations!! </h1>\n",
    "<p>\n",
    "You completed all modules and tackled the basics of Python! <br>\n",
    "However, to have a final check, we build in a mechanism that will check whether your results show the desired outcome. <br>\n",
    "To kick off these tests, you only have to push this directory to the main Git branch. <br>\n",
    "This can be done using the following steps:\n",
    "<ol>\n",
    "    <li> Open the command prompt in VS Code by pressing <b>CTRL</b> + <b>`</b>. </li>\n",
    "    <li> Write the command <code>git status</code> to check which differences there are between your current and the master branch. </li>\n",
    "    <li> Write the command <code>git add Modules/M2_PCC/</code> to add the main notebook to the staging lane. </li>\n",
    "    <li> Write the command <code>git commit -m \"<i>[INSERT COMMIT MESSAGE]</i>\"</code> to commit the staged changes and adding a descriptive commit message. </li>\n",
    "    <li> Finally, write the command <code>git push</code> to push the staged changes to the master branch. </li>\n",
    "    <li> Upon pushing the changes, the PyTest modules will be run to check your answers, for which an overview is generated in your Github </li>\n",
    "</ol>\n",
    "If you pass all tests, feel free to continue to our next module, <b>Module 3: Structured Query Language (SQL)</b>.\n",
    "</p>"
   ]
  }
 ],
 "metadata": {
  "kernelspec": {
   "display_name": "Python 3.10.4 ('bootcamp')",
   "language": "python",
   "name": "python3"
  },
  "language_info": {
   "codemirror_mode": {
    "name": "ipython",
    "version": 3
   },
   "file_extension": ".py",
   "mimetype": "text/x-python",
   "name": "python",
   "nbconvert_exporter": "python",
   "pygments_lexer": "ipython3",
   "version": "3.10.4"
  },
  "orig_nbformat": 4,
  "vscode": {
   "interpreter": {
    "hash": "b4079134c0179285e3a55d2e425b94f441ed12cd55a998c83f6f5077fa904635"
   }
  }
 },
 "nbformat": 4,
 "nbformat_minor": 2
}
