{
 "cells": [
  {
   "cell_type": "markdown",
   "metadata": {},
   "source": [
    "<h1> Data Science Bootcamp Module 3 - Application Programming Interface </h1>\n",
    "<hr>\n",
    "\n",
    "<p>\n",
    "    Throughout this module you will learn to work with Application Programming Interfaces (APIs). <br>\n",
    "    APIs are used to communicate with a database through so called HTTP Methods. <br>\n",
    "    In this method we will teach you the most commonly used HTTP Methods, which concern: \n",
    "    <ul>\n",
    "        <li> <b>GET</b> - Retrieve data from the application. </li>\n",
    "        <li> <b>PUT</b> - Update data that is stored in the application. </li>\n",
    "        <li> <b>POST</b> - Send data to the application. </li>\n",
    "        <li> <b>DELETE</b> - Remove data from the application. </li>\n",
    "    </ul>\n",
    "    You will be working with the same dataset used in module 1, in which you learned to work with SQL. <br>\n",
    "    To recap, this simple database consisting of three tables, which are comprised of the following columns:\n",
    "    <ol>\n",
    "        <li>\n",
    "            <b><u>customers</u></b>\n",
    "            <ul>\n",
    "                <li> <b>id</b>: The unique ID reference of the customer. </li>\n",
    "                <li> <b>firstName</b>: The first name of the customer. </li>\n",
    "                <li> <b>lastName</b>: The last name of the customer. </li>\n",
    "                <li> <b>address</b>: The street name and house number of the customer. </li>\n",
    "            </ul>\n",
    "        </li>\n",
    "        <br>\n",
    "        <li>\n",
    "            <b><u>products</u></b>\n",
    "            <ul>\n",
    "                <li> <b>id</b>: The unique ID reference of the product. </li>\n",
    "                <li> <b>name</b>: The name of the product, as displayed to the customer. </li>\n",
    "                <li> <b>price</b>: The purchase price of the product. </li>\n",
    "                <li> <b>stock</b>: The amount of products currently in stock. </li>\n",
    "            </ul>\n",
    "        </li>\n",
    "        <br>\n",
    "        <li>\n",
    "            <b><u>orders</u></b>\n",
    "            <ul>\n",
    "                <li><b>id</b>: The unique ID reference of the order. </li>\n",
    "                <li><b>customerId</b>: The ID reference of the customer that placed the order. </li>\n",
    "                <li><b>productId</b>: The ID reference of the product the order is placed for. </li>\n",
    "                <li><b>date</b>: The date the order is placed on. </li>\n",
    "                <li><b>quantity</b>: The amount of the given product purchased. </li>\n",
    "            </ul>\n",
    "        </li>\n",
    "    </ol>\n",
    "</p>"
   ]
  },
  {
   "cell_type": "markdown",
   "metadata": {},
   "source": [
    "<hr>\n",
    "<h3>A. GET requests. </h3>\n",
    "<p>\n",
    "Of the four requests discussed in this module, the GET request is most often used. <br>\n",
    "In essence, through a GET request you ask the API for information to be retrieved from the connected service. <br>\n",
    "Below you will be asked to write several GET requests, that will return specific information from the database.\n",
    "</p>"
   ]
  },
  {
   "cell_type": "code",
   "execution_count": 1,
   "metadata": {},
   "outputs": [],
   "source": [
    "from fastapi import FastAPI"
   ]
  },
  {
   "cell_type": "code",
   "execution_count": 2,
   "metadata": {},
   "outputs": [],
   "source": [
    "app = FastAPI()"
   ]
  },
  {
   "cell_type": "code",
   "execution_count": 3,
   "metadata": {},
   "outputs": [],
   "source": [
    "@app.get(\"/\")\n",
    "def index():\n",
    "    return {\"name\": \"First Data\"}"
   ]
  },
  {
   "cell_type": "code",
   "execution_count": null,
   "metadata": {},
   "outputs": [],
   "source": []
  }
 ],
 "metadata": {
  "kernelspec": {
   "display_name": "Python 3.10.4 ('venv': venv)",
   "language": "python",
   "name": "python3"
  },
  "language_info": {
   "codemirror_mode": {
    "name": "ipython",
    "version": 3
   },
   "file_extension": ".py",
   "mimetype": "text/x-python",
   "name": "python",
   "nbconvert_exporter": "python",
   "pygments_lexer": "ipython3",
   "version": "3.10.4"
  },
  "orig_nbformat": 4,
  "vscode": {
   "interpreter": {
    "hash": "8cdb90a6d2f7684ad8082e90bd78c5d7d83594e89c8b508cbb7ab5eaa7811b86"
   }
  }
 },
 "nbformat": 4,
 "nbformat_minor": 2
}
