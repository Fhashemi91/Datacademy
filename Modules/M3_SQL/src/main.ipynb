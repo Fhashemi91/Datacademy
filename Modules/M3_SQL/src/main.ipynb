{
 "cells": [
  {
   "cell_type": "markdown",
   "metadata": {},
   "source": [
    "<h1> Data Science Bootcamp Module 3 - Structured Query Language </h1>\n",
    "<hr>\n",
    "\n",
    "<p>\n",
    "    Throughout this module you will learn to work with the programming language SQL. <br>\n",
    "    To start working with SQLite in VSCode, first install the SQLite extension using the extension tab on the left. <br>\n",
    "    You will be working with a simple database consisting of three tables, which are comprised of the following columns:\n",
    "    <ol>\n",
    "        <li>\n",
    "            <b><u>customers</u></b>\n",
    "            <ul>\n",
    "                <li> <b>id</b>: The unique ID reference of the customer. </li>\n",
    "                <li> <b>firstName</b>: The first name of the customer. </li>\n",
    "                <li> <b>lastName</b>: The last name of the customer. </li>\n",
    "                <li> <b>address</b>: The street name and house number of the customer. </li>\n",
    "            </ul>\n",
    "        </li>\n",
    "        <br>\n",
    "        <li>\n",
    "            <b><u>products</u></b>\n",
    "            <ul>\n",
    "                <li> <b>id</b>: The unique ID reference of the product. </li>\n",
    "                <li> <b>name</b>: The name of the product, as displayed to the customer. </li>\n",
    "                <li> <b>price</b>: The purchase price of the product. </li>\n",
    "                <li> <b>stock</b>: The amount of products currently in stock. </li>\n",
    "            </ul>\n",
    "        </li>\n",
    "        <br>\n",
    "        <li>\n",
    "            <b><u>orders</u></b>\n",
    "            <ul>\n",
    "                <li><b>id</b>: The unique ID reference of the order. </li>\n",
    "                <li><b>customerId</b>: The ID reference of the customer that placed the order. </li>\n",
    "                <li><b>productId</b>: The ID reference of the product the order is placed for. </li>\n",
    "                <li><b>date</b>: The date the order is placed on. </li>\n",
    "                <li><b>quantity</b>: The amount of the given product purchased. </li>\n",
    "            </ul>\n",
    "        </li>\n",
    "    </ol>\n",
    "</p>"
   ]
  },
  {
   "cell_type": "markdown",
   "metadata": {},
   "source": [
    "<hr>\n",
    "<h3>A. Import libraries and create database. </h3>\n",
    "<p>\n",
    "Before starting to write code, first all Python libraries need to be imported. <br>\n",
    "We already pre-written some code to create a Database for you, populated with the data mentioned above. <br>\n",
    "The Database object is called \"db\", which also allows you to write and execute queries. <br>\n",
    "To write queries you simple execute the code: <code>db.execute_query(<i>[YOUR QUERY HERE]</i>)</code>.\n",
    "</p>"
   ]
  },
  {
   "cell_type": "code",
   "execution_count": 1,
   "metadata": {},
   "outputs": [],
   "source": [
    "from Modules.M3_SQL.libs.database import Database\n",
    "db = Database()"
   ]
  },
  {
   "cell_type": "markdown",
   "metadata": {},
   "source": [
    "<hr>\n",
    "<h3> B. Basic operations </h3>\n",
    "<p>\n",
    "First we will explore the basic operations, namely SELECT, FROM, WHERE and LIMIT. <br>\n",
    "These operations form the basis of most queries that you will write in the future, as they are most fundamental to the retrieval of data. <br>\n",
    "The operations and their functionality will be listed below:\n",
    "<ul>\n",
    "    <li> <b>SELECT</b> - Defines the column values that you desired to retrieve. </li>\n",
    "    <li> <b>FROM</b> - Defines the table from which these values need to be retrieved. </li>\n",
    "    <!-- <li> <b>JOIN</b> - Allows you to join multiple tables within a single query. </li> -->\n",
    "    <li> <b>WHERE</b> - Defines the condition(s) that will affect which rows are returned. </li>\n",
    "    <li> <b>LIMIT</b> - Defines the number of rows that are returned. </li>\n",
    "    <li> <b>ORDER BY</b> - Defines the way the records that are returned will be sorted. </li>\n",
    "</ul>\n",
    "In this module you will explore the functionalities of these operators using the just created database. <br>\n",
    "The tables and their columns are described in the beginning of this notebook, which description can be used throughout the exercises below.\n",
    "</p>"
   ]
  },
  {
   "cell_type": "markdown",
   "metadata": {},
   "source": [
    "<p>\n",
    "The first queries you will write are simple retrieval queries, which only use the <b> SELECT </b> and <b> FROM </b> operators. <br>\n",
    "Write the following queries:\n",
    "<ol>\n",
    "    <li> Retrieve all available information regarding products contained in the products table. </li>\n",
    "    <li> Retrieve the customerId, ProductId and quantity of the orders that consists of a quantity of 5 or more products. </li>\n",
    "    <li> Retrieve first and last name of all customers with a first name that starts with a \"J\". </li>\n",
    "    <li> Retrieve all available information of the top 6 largest orders in terms of quantity. </li>\n",
    "    <li> Retrieve only the name of the cheapest product in the products table. </li>\n",
    "</ol>\n",
    "</p>"
   ]
  },
  {
   "cell_type": "code",
   "execution_count": 2,
   "metadata": {},
   "outputs": [
    {
     "data": {
      "text/html": [
       "<div>\n",
       "<style scoped>\n",
       "    .dataframe tbody tr th:only-of-type {\n",
       "        vertical-align: middle;\n",
       "    }\n",
       "\n",
       "    .dataframe tbody tr th {\n",
       "        vertical-align: top;\n",
       "    }\n",
       "\n",
       "    .dataframe thead th {\n",
       "        text-align: right;\n",
       "    }\n",
       "</style>\n",
       "<table border=\"1\" class=\"dataframe\">\n",
       "  <thead>\n",
       "    <tr style=\"text-align: right;\">\n",
       "      <th></th>\n",
       "      <th>name</th>\n",
       "      <th>price</th>\n",
       "      <th>stock</th>\n",
       "    </tr>\n",
       "    <tr>\n",
       "      <th>id</th>\n",
       "      <th></th>\n",
       "      <th></th>\n",
       "      <th></th>\n",
       "    </tr>\n",
       "  </thead>\n",
       "  <tbody>\n",
       "    <tr>\n",
       "      <th>0</th>\n",
       "      <td>Copying paper (500 pcs.)</td>\n",
       "      <td>4.95</td>\n",
       "      <td>304</td>\n",
       "    </tr>\n",
       "    <tr>\n",
       "      <th>1</th>\n",
       "      <td>Binders (3 pcs.)</td>\n",
       "      <td>8.30</td>\n",
       "      <td>33</td>\n",
       "    </tr>\n",
       "    <tr>\n",
       "      <th>2</th>\n",
       "      <td>Office chairs</td>\n",
       "      <td>159.99</td>\n",
       "      <td>25</td>\n",
       "    </tr>\n",
       "    <tr>\n",
       "      <th>3</th>\n",
       "      <td>Desk</td>\n",
       "      <td>254.99</td>\n",
       "      <td>12</td>\n",
       "    </tr>\n",
       "    <tr>\n",
       "      <th>4</th>\n",
       "      <td>PC monitor</td>\n",
       "      <td>188.99</td>\n",
       "      <td>48</td>\n",
       "    </tr>\n",
       "    <tr>\n",
       "      <th>5</th>\n",
       "      <td>Computer mouse</td>\n",
       "      <td>16.99</td>\n",
       "      <td>80</td>\n",
       "    </tr>\n",
       "    <tr>\n",
       "      <th>6</th>\n",
       "      <td>Pens (50 pcs.)</td>\n",
       "      <td>23.60</td>\n",
       "      <td>143</td>\n",
       "    </tr>\n",
       "    <tr>\n",
       "      <th>7</th>\n",
       "      <td>Black toners (2pcs.)</td>\n",
       "      <td>39.95</td>\n",
       "      <td>228</td>\n",
       "    </tr>\n",
       "  </tbody>\n",
       "</table>\n",
       "</div>"
      ],
      "text/plain": [
       "                        name   price  stock\n",
       "id                                         \n",
       "0   Copying paper (500 pcs.)    4.95    304\n",
       "1           Binders (3 pcs.)    8.30     33\n",
       "2              Office chairs  159.99     25\n",
       "3                       Desk  254.99     12\n",
       "4                 PC monitor  188.99     48\n",
       "5             Computer mouse   16.99     80\n",
       "6             Pens (50 pcs.)   23.60    143\n",
       "7       Black toners (2pcs.)   39.95    228"
      ]
     },
     "execution_count": 2,
     "metadata": {},
     "output_type": "execute_result"
    }
   ],
   "source": [
    "Q_B1 = \"SELECT * FROM Products\"\n",
    "\n",
    "R_B1 = db.execute_query(query=Q_B1, return_df=True, exercise=\"B1\")\n",
    "R_B1"
   ]
  },
  {
   "cell_type": "code",
   "execution_count": 3,
   "metadata": {},
   "outputs": [
    {
     "name": "stdout",
     "output_type": "stream",
     "text": [
      "R_B2: Exercise not finished yet\n",
      "R_B3: Exercise not finished yet\n",
      "R_B4: Exercise not finished yet\n",
      "R_B5: Exercise not finished yet\n",
      "Everything seems to be correct. Great work!\n"
     ]
    }
   ],
   "source": []
  },
  {
   "cell_type": "code",
   "execution_count": 4,
   "metadata": {},
   "outputs": [
    {
     "data": {
      "text/html": [
       "<div>\n",
       "<style scoped>\n",
       "    .dataframe tbody tr th:only-of-type {\n",
       "        vertical-align: middle;\n",
       "    }\n",
       "\n",
       "    .dataframe tbody tr th {\n",
       "        vertical-align: top;\n",
       "    }\n",
       "\n",
       "    .dataframe thead th {\n",
       "        text-align: right;\n",
       "    }\n",
       "</style>\n",
       "<table border=\"1\" class=\"dataframe\">\n",
       "  <thead>\n",
       "    <tr style=\"text-align: right;\">\n",
       "      <th></th>\n",
       "      <th>customerId</th>\n",
       "      <th>productId</th>\n",
       "      <th>quantity</th>\n",
       "    </tr>\n",
       "  </thead>\n",
       "  <tbody>\n",
       "    <tr>\n",
       "      <th>0</th>\n",
       "      <td>5</td>\n",
       "      <td>5</td>\n",
       "      <td>5</td>\n",
       "    </tr>\n",
       "    <tr>\n",
       "      <th>1</th>\n",
       "      <td>1</td>\n",
       "      <td>7</td>\n",
       "      <td>5</td>\n",
       "    </tr>\n",
       "    <tr>\n",
       "      <th>2</th>\n",
       "      <td>8</td>\n",
       "      <td>7</td>\n",
       "      <td>5</td>\n",
       "    </tr>\n",
       "    <tr>\n",
       "      <th>3</th>\n",
       "      <td>11</td>\n",
       "      <td>2</td>\n",
       "      <td>6</td>\n",
       "    </tr>\n",
       "    <tr>\n",
       "      <th>4</th>\n",
       "      <td>0</td>\n",
       "      <td>3</td>\n",
       "      <td>6</td>\n",
       "    </tr>\n",
       "    <tr>\n",
       "      <th>5</th>\n",
       "      <td>2</td>\n",
       "      <td>7</td>\n",
       "      <td>6</td>\n",
       "    </tr>\n",
       "  </tbody>\n",
       "</table>\n",
       "</div>"
      ],
      "text/plain": [
       "   customerId  productId  quantity\n",
       "0           5          5         5\n",
       "1           1          7         5\n",
       "2           8          7         5\n",
       "3          11          2         6\n",
       "4           0          3         6\n",
       "5           2          7         6"
      ]
     },
     "execution_count": 4,
     "metadata": {},
     "output_type": "execute_result"
    }
   ],
   "source": [
    "Q_B2 = \"SELECT customerId, productId, quantity FROM Orders WHERE quantity >= 5\"\n",
    "\n",
    "R_B2 = db.execute_query(query=Q_B2, return_df=True, exercise=\"B2\")\n",
    "R_B2"
   ]
  },
  {
   "cell_type": "code",
   "execution_count": 5,
   "metadata": {},
   "outputs": [
    {
     "data": {
      "text/html": [
       "<div>\n",
       "<style scoped>\n",
       "    .dataframe tbody tr th:only-of-type {\n",
       "        vertical-align: middle;\n",
       "    }\n",
       "\n",
       "    .dataframe tbody tr th {\n",
       "        vertical-align: top;\n",
       "    }\n",
       "\n",
       "    .dataframe thead th {\n",
       "        text-align: right;\n",
       "    }\n",
       "</style>\n",
       "<table border=\"1\" class=\"dataframe\">\n",
       "  <thead>\n",
       "    <tr style=\"text-align: right;\">\n",
       "      <th></th>\n",
       "      <th>firstName</th>\n",
       "      <th>lastName</th>\n",
       "    </tr>\n",
       "  </thead>\n",
       "  <tbody>\n",
       "    <tr>\n",
       "      <th>0</th>\n",
       "      <td>John</td>\n",
       "      <td>Doe</td>\n",
       "    </tr>\n",
       "    <tr>\n",
       "      <th>1</th>\n",
       "      <td>Jamie</td>\n",
       "      <td>Dean</td>\n",
       "    </tr>\n",
       "  </tbody>\n",
       "</table>\n",
       "</div>"
      ],
      "text/plain": [
       "  firstName lastName\n",
       "0      John      Doe\n",
       "1     Jamie     Dean"
      ]
     },
     "execution_count": 5,
     "metadata": {},
     "output_type": "execute_result"
    }
   ],
   "source": [
    "Q_B3 = \"SELECT firstName, lastName FROM Customers WHERE firstName LIKE 'j%'\"\n",
    "\n",
    "R_B3 = db.execute_query(query=Q_B3, return_df=True, exercise=\"B3\")\n",
    "R_B3"
   ]
  },
  {
   "cell_type": "code",
   "execution_count": 6,
   "metadata": {},
   "outputs": [
    {
     "data": {
      "text/html": [
       "<div>\n",
       "<style scoped>\n",
       "    .dataframe tbody tr th:only-of-type {\n",
       "        vertical-align: middle;\n",
       "    }\n",
       "\n",
       "    .dataframe tbody tr th {\n",
       "        vertical-align: top;\n",
       "    }\n",
       "\n",
       "    .dataframe thead th {\n",
       "        text-align: right;\n",
       "    }\n",
       "</style>\n",
       "<table border=\"1\" class=\"dataframe\">\n",
       "  <thead>\n",
       "    <tr style=\"text-align: right;\">\n",
       "      <th></th>\n",
       "      <th>customerId</th>\n",
       "      <th>productId</th>\n",
       "      <th>date</th>\n",
       "      <th>quantity</th>\n",
       "    </tr>\n",
       "    <tr>\n",
       "      <th>id</th>\n",
       "      <th></th>\n",
       "      <th></th>\n",
       "      <th></th>\n",
       "      <th></th>\n",
       "    </tr>\n",
       "  </thead>\n",
       "  <tbody>\n",
       "    <tr>\n",
       "      <th>7</th>\n",
       "      <td>2</td>\n",
       "      <td>7</td>\n",
       "      <td>06/04/2022</td>\n",
       "      <td>6</td>\n",
       "    </tr>\n",
       "    <tr>\n",
       "      <th>6</th>\n",
       "      <td>0</td>\n",
       "      <td>3</td>\n",
       "      <td>12/12/2022</td>\n",
       "      <td>6</td>\n",
       "    </tr>\n",
       "    <tr>\n",
       "      <th>5</th>\n",
       "      <td>11</td>\n",
       "      <td>2</td>\n",
       "      <td>08/02/2022</td>\n",
       "      <td>6</td>\n",
       "    </tr>\n",
       "    <tr>\n",
       "      <th>19</th>\n",
       "      <td>8</td>\n",
       "      <td>7</td>\n",
       "      <td>19/12/2022</td>\n",
       "      <td>5</td>\n",
       "    </tr>\n",
       "    <tr>\n",
       "      <th>12</th>\n",
       "      <td>1</td>\n",
       "      <td>7</td>\n",
       "      <td>13/10/2022</td>\n",
       "      <td>5</td>\n",
       "    </tr>\n",
       "    <tr>\n",
       "      <th>0</th>\n",
       "      <td>5</td>\n",
       "      <td>5</td>\n",
       "      <td>07/11/2022</td>\n",
       "      <td>5</td>\n",
       "    </tr>\n",
       "  </tbody>\n",
       "</table>\n",
       "</div>"
      ],
      "text/plain": [
       "    customerId  productId        date  quantity\n",
       "id                                             \n",
       "7            2          7  06/04/2022         6\n",
       "6            0          3  12/12/2022         6\n",
       "5           11          2  08/02/2022         6\n",
       "19           8          7  19/12/2022         5\n",
       "12           1          7  13/10/2022         5\n",
       "0            5          5  07/11/2022         5"
      ]
     },
     "execution_count": 6,
     "metadata": {},
     "output_type": "execute_result"
    }
   ],
   "source": [
    "Q_B4 = \"SELECT * FROM Orders ORDER BY quantity DESC LIMIT 6\"\n",
    "\n",
    "R_B4 = db.execute_query(query=Q_B4, return_df=True, exercise=\"B4\")\n",
    "R_B4"
   ]
  },
  {
   "cell_type": "code",
   "execution_count": 7,
   "metadata": {},
   "outputs": [
    {
     "data": {
      "text/html": [
       "<div>\n",
       "<style scoped>\n",
       "    .dataframe tbody tr th:only-of-type {\n",
       "        vertical-align: middle;\n",
       "    }\n",
       "\n",
       "    .dataframe tbody tr th {\n",
       "        vertical-align: top;\n",
       "    }\n",
       "\n",
       "    .dataframe thead th {\n",
       "        text-align: right;\n",
       "    }\n",
       "</style>\n",
       "<table border=\"1\" class=\"dataframe\">\n",
       "  <thead>\n",
       "    <tr style=\"text-align: right;\">\n",
       "      <th></th>\n",
       "      <th>name</th>\n",
       "      <th>price</th>\n",
       "    </tr>\n",
       "  </thead>\n",
       "  <tbody>\n",
       "    <tr>\n",
       "      <th>0</th>\n",
       "      <td>Copying paper (500 pcs.)</td>\n",
       "      <td>4.95</td>\n",
       "    </tr>\n",
       "  </tbody>\n",
       "</table>\n",
       "</div>"
      ],
      "text/plain": [
       "                       name  price\n",
       "0  Copying paper (500 pcs.)   4.95"
      ]
     },
     "execution_count": 7,
     "metadata": {},
     "output_type": "execute_result"
    }
   ],
   "source": [
    "Q_B5 = \"SELECT name, price FROM Products ORDER BY price LIMIT 1\"\n",
    "\n",
    "R_B5 = db.execute_query(query=Q_B5, return_df=True, exercise=\"B5\")\n",
    "R_B5"
   ]
  },
  {
   "cell_type": "markdown",
   "metadata": {},
   "source": [
    "<hr>\n",
    "<h3> C. Database operations </h3>\n",
    "<p>\n",
    "Besides execution of basic reading operations, also a lot of database operations are available. <br>\n",
    "These operations include Creating, Updating an Deleting operations. <br>\n",
    "These operations form the foundation for every Database developer and/or administrator. <br>\n",
    "Understanding these functionalities, you will be able to create, access and manipulate databases. <br>\n",
    "The operations and their functionaltiy will be listed below:\n",
    "<ul>\n",
    "    <li> <b>CREATE TABLE</b> - Creates a table with the given table name. </li>\n",
    "    <li> <b>INSERT INTO</b> - Allows you to add new records to the database table. </li>\n",
    "    <li> <b>UPDATE</b> - Allows you to adjust data in existing records within the database table. </li>\n",
    "    <li> <b>DELETE FROM</b> - Allows you to delete one or multiple data records from the database table. </li>\n",
    "    <li> <b>DROP TABLE</b> - Allows you to drop an entire table from the database. </li>\n",
    "</ul>\n",
    "</p>"
   ]
  },
  {
   "cell_type": "markdown",
   "metadata": {},
   "source": [
    "<h7> <b> -- C1. CREATE TABLE -- </b> </h7>\n",
    "<p>\n",
    "Write a query that creates a new table called 'campaigns', which contains all marketing campaigns of different products. <br>\n",
    "The table should consists of the following columns and their corresponding data types:\n",
    "<ol>\n",
    "    <li><b>id</b> - Integer, Primary Key, Auto Increment</li>\n",
    "    <li><b>productId</b> - Integer, Foreign Key (reference: products.id)</li>\n",
    "    <li><b>campaignStart</b> - Timestamp </li>\n",
    "    <li><b>campaignEnd</b> - Timestamp </li>\n",
    "    <li><b>Discount</b> - float </li>\n",
    "</ol>\n",
    "</p>"
   ]
  },
  {
   "cell_type": "code",
   "execution_count": 8,
   "metadata": {},
   "outputs": [
    {
     "data": {
      "text/plain": [
       "'Table created successfully!'"
      ]
     },
     "execution_count": 8,
     "metadata": {},
     "output_type": "execute_result"
    }
   ],
   "source": [
    "Q_C1_1 = \"\"\"CREATE TABLE campaigns (\n",
    "        id INTEGER PRIMARY KEY AUTOINCREMENT, \n",
    "        productId INTEGER,\n",
    "        campaignStart DATE,\n",
    "        campaignEnd DATE,\n",
    "        discount FLOAT,\n",
    "        FOREIGN KEY (productId) REFERENCES products(id)\n",
    "        );\n",
    "    \"\"\"\n",
    "\n",
    "db.execute_query(query=Q_C1_1)"
   ]
  },
  {
   "cell_type": "markdown",
   "metadata": {},
   "source": [
    "<h7> <b> -- C2. INSERT INTO -- </b> </h7>\n",
    "<p>\n",
    "Now it is time to populate your newly created table. <br>\n",
    "Please insert the following data onto the campaigns table: <br>\n",
    "<code> { <br>\n",
    "    &nbsp; productId: 4, <br>\n",
    "    &nbsp; campaignStart: '2022-01-01', <br>\n",
    "    &nbsp; campaignEnd: '2022-04-08', <br>\n",
    "    &nbsp; discount: 0.20 <br>\n",
    "} </code> <br>\n",
    "\n",
    "<code> { <br>\n",
    "    &nbsp; productId: 6, <br>\n",
    "    &nbsp; campaignStart: '2022-02-02', <br>\n",
    "    &nbsp; campaignEnd: '2022-06-23', <br>\n",
    "    &nbsp; discount: 0.15 <br>\n",
    "} </code> <br>\n",
    "\n",
    "<code> { <br>\n",
    "    &nbsp; productId: 4, <br>\n",
    "    &nbsp; campaignStart: '2022-04-20', <br>\n",
    "    &nbsp; campaignEnd: '2022-07-15', <br>\n",
    "    &nbsp; discount: 0.30 <br>\n",
    "} </code> <br>\n",
    "\n",
    "<code> { <br>\n",
    "    &nbsp; productId: 7, <br>\n",
    "    &nbsp; campaignStart: '2022-10-20', <br>\n",
    "    &nbsp; campaignEnd: '2022-12-31', <br>\n",
    "    &nbsp; discount: 0.125 <br>\n",
    "} </code> <br>\n",
    "\n",
    "</p>"
   ]
  },
  {
   "cell_type": "code",
   "execution_count": 9,
   "metadata": {},
   "outputs": [
    {
     "data": {
      "text/plain": [
       "'Data inserted successfully!'"
      ]
     },
     "execution_count": 9,
     "metadata": {},
     "output_type": "execute_result"
    }
   ],
   "source": [
    "Q_C2_1 = \"INSERT INTO campaigns(productId, campaignStart, campaignEnd, Discount) VALUES (4, '2022-01-01', '2022-04-08', 0.20);\"\n",
    "\n",
    "db.execute_query(query=Q_C2_1)"
   ]
  },
  {
   "cell_type": "code",
   "execution_count": 10,
   "metadata": {},
   "outputs": [
    {
     "data": {
      "text/plain": [
       "'Data inserted successfully!'"
      ]
     },
     "execution_count": 10,
     "metadata": {},
     "output_type": "execute_result"
    }
   ],
   "source": [
    "Q_C2_2 = \"INSERT INTO campaigns(productId, campaignStart, campaignEnd, Discount) VALUES (6, '2022-02-02', '2022-06-23', 0.15);\"\n",
    "\n",
    "db.execute_query(Q_C2_2)"
   ]
  },
  {
   "cell_type": "code",
   "execution_count": 11,
   "metadata": {},
   "outputs": [
    {
     "data": {
      "text/plain": [
       "'Data inserted successfully!'"
      ]
     },
     "execution_count": 11,
     "metadata": {},
     "output_type": "execute_result"
    }
   ],
   "source": [
    "Q_C2_3 = \"INSERT INTO campaigns(productId, campaignStart, campaignEnd, Discount) VALUES (4, '2022-04-01', '2022-07-15', 0.30);\"\n",
    "\n",
    "db.execute_query(Q_C2_3)"
   ]
  },
  {
   "cell_type": "code",
   "execution_count": 12,
   "metadata": {},
   "outputs": [
    {
     "data": {
      "text/plain": [
       "'Data inserted successfully!'"
      ]
     },
     "execution_count": 12,
     "metadata": {},
     "output_type": "execute_result"
    }
   ],
   "source": [
    "Q_C2_4 = \"INSERT INTO campaigns(productId, campaignStart, campaignEnd, Discount) VALUES (7, '2022-10-20', '2022-12-31', 0.125);\"\n",
    "\n",
    "db.execute_query(Q_C2_4)"
   ]
  },
  {
   "cell_type": "code",
   "execution_count": 13,
   "metadata": {},
   "outputs": [
    {
     "data": {
      "text/plain": [
       "'Please provide the exercise name in the function if you want to save the outputs.'"
      ]
     },
     "execution_count": 13,
     "metadata": {},
     "output_type": "execute_result"
    }
   ],
   "source": [
    "db.execute_query(\"SELECT * FROM campaigns;\", return_df=True)"
   ]
  },
  {
   "cell_type": "markdown",
   "metadata": {},
   "source": [
    "<h7> <b> -- C3. UPDATE -- </b> </h7>\n",
    "<p>\n",
    "We have actually made some mistake with inserting the campaigns into the database. <br>\n",
    "Make the following adjustments to the database records: <br>\n",
    "<ol>\n",
    "    <li> For the campaign with id 1, Change the start date from: '2022-01-01' to '2022-01-25'. </li>\n",
    "    <li> For the campaign(s) with end date '2022-06-23', Change the start date to '2022-01-01' and the end date to '2022-12-31'. </li>\n",
    "    <li> For the campaign(s) concerning productId 4, change the discount to 0.25. </li>\n",
    "</ol>\n",
    "</p>"
   ]
  },
  {
   "cell_type": "code",
   "execution_count": 14,
   "metadata": {},
   "outputs": [
    {
     "data": {
      "text/plain": [
       "'Data record updated successfully!'"
      ]
     },
     "execution_count": 14,
     "metadata": {},
     "output_type": "execute_result"
    }
   ],
   "source": [
    "Q_C3_1 = \"UPDATE campaigns SET campaignStart='2022-01-25' WHERE id=1;\"\n",
    "\n",
    "db.execute_query(Q_C3_1)"
   ]
  },
  {
   "cell_type": "code",
   "execution_count": 15,
   "metadata": {},
   "outputs": [
    {
     "data": {
      "text/plain": [
       "'Data record updated successfully!'"
      ]
     },
     "execution_count": 15,
     "metadata": {},
     "output_type": "execute_result"
    }
   ],
   "source": [
    "Q_C3_2 = \"UPDATE campaigns SET campaignStart='2022-01-01', campaignEnd='2022-12-31' WHERE campaignEnd='2022-06-23';\"\n",
    "\n",
    "db.execute_query(Q_C3_2)"
   ]
  },
  {
   "cell_type": "code",
   "execution_count": 16,
   "metadata": {},
   "outputs": [
    {
     "data": {
      "text/plain": [
       "'Data record updated successfully!'"
      ]
     },
     "execution_count": 16,
     "metadata": {},
     "output_type": "execute_result"
    }
   ],
   "source": [
    "Q_C3_3 = \"UPDATE campaigns SET discount = 0.25 WHERE productId = 4;\"\n",
    "\n",
    "db.execute_query(Q_C3_3)"
   ]
  },
  {
   "cell_type": "code",
   "execution_count": 17,
   "metadata": {},
   "outputs": [
    {
     "data": {
      "text/plain": [
       "'Please provide the exercise name in the function if you want to save the outputs.'"
      ]
     },
     "execution_count": 17,
     "metadata": {},
     "output_type": "execute_result"
    }
   ],
   "source": [
    "db.execute_query(\"SELECT * FROM campaigns;\", return_df=True)"
   ]
  },
  {
   "cell_type": "markdown",
   "metadata": {},
   "source": [
    "<h7> <b> -- C4. DELETE FROM -- </b> </h7>\n",
    "<p>\n",
    "Deletion of record can also be done in a similar manner as previous database mutations using the WHERE clause. <br>\n",
    "Write the queries executing the following behavior:\n",
    "<ol>\n",
    "    <li> Remove all campaigns that concern productId 6. </li>\n",
    "    <li> Remove all other campaigns, emptying the database table. </li>\n",
    "</ol>\n",
    "\n",
    "</p>"
   ]
  },
  {
   "cell_type": "code",
   "execution_count": 18,
   "metadata": {},
   "outputs": [
    {
     "data": {
      "text/plain": [
       "'Data record deleted successfully!'"
      ]
     },
     "execution_count": 18,
     "metadata": {},
     "output_type": "execute_result"
    }
   ],
   "source": [
    "Q_C4_1 = \"DELETE FROM campaigns WHERE productId = 6;\"\n",
    "\n",
    "db.execute_query(Q_C4_1)"
   ]
  },
  {
   "cell_type": "code",
   "execution_count": 19,
   "metadata": {},
   "outputs": [
    {
     "data": {
      "text/plain": [
       "'Data record deleted successfully!'"
      ]
     },
     "execution_count": 19,
     "metadata": {},
     "output_type": "execute_result"
    }
   ],
   "source": [
    "Q_C4_2 = \"DELETE FROM campaigns;\"\n",
    "\n",
    "db.execute_query(Q_C4_2)"
   ]
  },
  {
   "cell_type": "markdown",
   "metadata": {},
   "source": [
    "<h3><b> CAUTION!</b></h3>\n",
    "<p> \n",
    "The last query you wrote to remove all campaigns shows the danger of using the <b> DELETE FROM </b> operator. <br>\n",
    "When using this operator make sure to <b>always include a where condition</b>, as otherwise the database table is emptied. <br>\n",
    "If such query without a condition is executed on an actual database table the data will be removed without a possibility of to be retrieved.\n",
    "</p>"
   ]
  },
  {
   "cell_type": "markdown",
   "metadata": {},
   "source": [
    "<h7> <b> -- C5. DROP TABLE -- </b> </h7>\n",
    "<p>\n",
    "The created campaigns table is only created and used to practice the database operators. <br>\n",
    "For the following excersises we will clean the database by dropping the campaigns table. <br>\n",
    "Write a query that drops the table from te database, only leaving the Customers, Products and Orders tables.\n",
    "</p>"
   ]
  },
  {
   "cell_type": "code",
   "execution_count": 20,
   "metadata": {},
   "outputs": [
    {
     "data": {
      "text/plain": [
       "'Table dropped successfully!'"
      ]
     },
     "execution_count": 20,
     "metadata": {},
     "output_type": "execute_result"
    }
   ],
   "source": [
    "Q_C5_1 = \"DROP TABLE campaigns;\"\n",
    "\n",
    "db.execute_query(Q_C5_1)"
   ]
  },
  {
   "cell_type": "markdown",
   "metadata": {},
   "source": [
    "<hr>\n",
    "<h3> D. Calculation operators </h3>\n",
    "<p>\n",
    "Next we will look into calculation operators, which extends the possibilities of what can be retrieved from the database. <br>\n",
    "Instead of simply using the <b>SELECT</b> operator, the calculation operators can perform calculations on the values that are retrieved. <br>\n",
    "There are a lot of possible calculation operators, however the most commonly used are the Max, Min, Sum and Count operators. <br>\n",
    "Together with the <b>GROUP BY</b> operator you can perform some usefull calculative queries that are able to return great Business Intelligence. <br>\n",
    "When using <b>GROUP BY</b>, conditional retrieval is done using <b>HAVING</b> instead of <b>WHERE</b>, which also works for calculations. <br>\n",
    "Write the following queries:\n",
    "<ol>\n",
    "    <li> Retrieve the total number of orders that are contained in the orders table. </li>\n",
    "    <li> Return the product name and the total value stored in inventory (price * stock). </li>\n",
    "    <li> Return the productId and the largest quantity ordered for all products separately (using <b>GROUP BY</b>). </li>\n",
    "    <li> Return the ProductId and the number of different customers for all products separately (using <b>DISTINCT()</b>), only returning products with two or more distinct customers. </li>\n",
    "</ol>\n",
    "</p>\n"
   ]
  },
  {
   "cell_type": "code",
   "execution_count": 21,
   "metadata": {},
   "outputs": [
    {
     "data": {
      "text/html": [
       "<div>\n",
       "<style scoped>\n",
       "    .dataframe tbody tr th:only-of-type {\n",
       "        vertical-align: middle;\n",
       "    }\n",
       "\n",
       "    .dataframe tbody tr th {\n",
       "        vertical-align: top;\n",
       "    }\n",
       "\n",
       "    .dataframe thead th {\n",
       "        text-align: right;\n",
       "    }\n",
       "</style>\n",
       "<table border=\"1\" class=\"dataframe\">\n",
       "  <thead>\n",
       "    <tr style=\"text-align: right;\">\n",
       "      <th></th>\n",
       "      <th>NumberOfOrders</th>\n",
       "    </tr>\n",
       "  </thead>\n",
       "  <tbody>\n",
       "    <tr>\n",
       "      <th>0</th>\n",
       "      <td>20</td>\n",
       "    </tr>\n",
       "  </tbody>\n",
       "</table>\n",
       "</div>"
      ],
      "text/plain": [
       "   NumberOfOrders\n",
       "0              20"
      ]
     },
     "execution_count": 21,
     "metadata": {},
     "output_type": "execute_result"
    }
   ],
   "source": [
    "Q_D1 = \"SELECT COUNT(*) AS NumberOfOrders FROM orders\"\n",
    "\n",
    "R_D1 = db.execute_query(query=Q_D1,  return_df=True, exercise=\"D1\")\n",
    "R_D1"
   ]
  },
  {
   "cell_type": "code",
   "execution_count": 22,
   "metadata": {},
   "outputs": [
    {
     "data": {
      "text/html": [
       "<div>\n",
       "<style scoped>\n",
       "    .dataframe tbody tr th:only-of-type {\n",
       "        vertical-align: middle;\n",
       "    }\n",
       "\n",
       "    .dataframe tbody tr th {\n",
       "        vertical-align: top;\n",
       "    }\n",
       "\n",
       "    .dataframe thead th {\n",
       "        text-align: right;\n",
       "    }\n",
       "</style>\n",
       "<table border=\"1\" class=\"dataframe\">\n",
       "  <thead>\n",
       "    <tr style=\"text-align: right;\">\n",
       "      <th></th>\n",
       "      <th>name</th>\n",
       "      <th>Inventory</th>\n",
       "    </tr>\n",
       "  </thead>\n",
       "  <tbody>\n",
       "    <tr>\n",
       "      <th>0</th>\n",
       "      <td>Copying paper (500 pcs.)</td>\n",
       "      <td>1504.80</td>\n",
       "    </tr>\n",
       "    <tr>\n",
       "      <th>1</th>\n",
       "      <td>Binders (3 pcs.)</td>\n",
       "      <td>273.90</td>\n",
       "    </tr>\n",
       "    <tr>\n",
       "      <th>2</th>\n",
       "      <td>Office chairs</td>\n",
       "      <td>3999.75</td>\n",
       "    </tr>\n",
       "    <tr>\n",
       "      <th>3</th>\n",
       "      <td>Desk</td>\n",
       "      <td>3059.88</td>\n",
       "    </tr>\n",
       "    <tr>\n",
       "      <th>4</th>\n",
       "      <td>PC monitor</td>\n",
       "      <td>9071.52</td>\n",
       "    </tr>\n",
       "    <tr>\n",
       "      <th>5</th>\n",
       "      <td>Computer mouse</td>\n",
       "      <td>1359.20</td>\n",
       "    </tr>\n",
       "    <tr>\n",
       "      <th>6</th>\n",
       "      <td>Pens (50 pcs.)</td>\n",
       "      <td>3374.80</td>\n",
       "    </tr>\n",
       "    <tr>\n",
       "      <th>7</th>\n",
       "      <td>Black toners (2pcs.)</td>\n",
       "      <td>9108.60</td>\n",
       "    </tr>\n",
       "  </tbody>\n",
       "</table>\n",
       "</div>"
      ],
      "text/plain": [
       "                       name  Inventory\n",
       "0  Copying paper (500 pcs.)    1504.80\n",
       "1          Binders (3 pcs.)     273.90\n",
       "2             Office chairs    3999.75\n",
       "3                      Desk    3059.88\n",
       "4                PC monitor    9071.52\n",
       "5            Computer mouse    1359.20\n",
       "6            Pens (50 pcs.)    3374.80\n",
       "7      Black toners (2pcs.)    9108.60"
      ]
     },
     "execution_count": 22,
     "metadata": {},
     "output_type": "execute_result"
    }
   ],
   "source": [
    "Q_D2 = \"SELECT name, price*stock AS Inventory FROM products\"\n",
    "\n",
    "R_D2 = db.execute_query(query=Q_D2, return_df=True, exercise=\"D2\")\n",
    "R_D2"
   ]
  },
  {
   "cell_type": "code",
   "execution_count": 23,
   "metadata": {},
   "outputs": [
    {
     "data": {
      "text/html": [
       "<div>\n",
       "<style scoped>\n",
       "    .dataframe tbody tr th:only-of-type {\n",
       "        vertical-align: middle;\n",
       "    }\n",
       "\n",
       "    .dataframe tbody tr th {\n",
       "        vertical-align: top;\n",
       "    }\n",
       "\n",
       "    .dataframe thead th {\n",
       "        text-align: right;\n",
       "    }\n",
       "</style>\n",
       "<table border=\"1\" class=\"dataframe\">\n",
       "  <thead>\n",
       "    <tr style=\"text-align: right;\">\n",
       "      <th></th>\n",
       "      <th>productId</th>\n",
       "      <th>largestQuantity</th>\n",
       "    </tr>\n",
       "  </thead>\n",
       "  <tbody>\n",
       "    <tr>\n",
       "      <th>0</th>\n",
       "      <td>0</td>\n",
       "      <td>4</td>\n",
       "    </tr>\n",
       "    <tr>\n",
       "      <th>1</th>\n",
       "      <td>1</td>\n",
       "      <td>2</td>\n",
       "    </tr>\n",
       "    <tr>\n",
       "      <th>2</th>\n",
       "      <td>2</td>\n",
       "      <td>6</td>\n",
       "    </tr>\n",
       "    <tr>\n",
       "      <th>3</th>\n",
       "      <td>3</td>\n",
       "      <td>6</td>\n",
       "    </tr>\n",
       "    <tr>\n",
       "      <th>4</th>\n",
       "      <td>4</td>\n",
       "      <td>4</td>\n",
       "    </tr>\n",
       "    <tr>\n",
       "      <th>5</th>\n",
       "      <td>5</td>\n",
       "      <td>5</td>\n",
       "    </tr>\n",
       "    <tr>\n",
       "      <th>6</th>\n",
       "      <td>6</td>\n",
       "      <td>4</td>\n",
       "    </tr>\n",
       "    <tr>\n",
       "      <th>7</th>\n",
       "      <td>7</td>\n",
       "      <td>6</td>\n",
       "    </tr>\n",
       "  </tbody>\n",
       "</table>\n",
       "</div>"
      ],
      "text/plain": [
       "   productId  largestQuantity\n",
       "0          0                4\n",
       "1          1                2\n",
       "2          2                6\n",
       "3          3                6\n",
       "4          4                4\n",
       "5          5                5\n",
       "6          6                4\n",
       "7          7                6"
      ]
     },
     "execution_count": 23,
     "metadata": {},
     "output_type": "execute_result"
    }
   ],
   "source": [
    "Q_D3 = \"SELECT productId, max(quantity) AS largestQuantity FROM orders GROUP BY productId\"\n",
    "\n",
    "R_D3 = db.execute_query(query=Q_D3, return_df=True, exercise=\"D3\")\n",
    "R_D3"
   ]
  },
  {
   "cell_type": "code",
   "execution_count": 24,
   "metadata": {},
   "outputs": [
    {
     "data": {
      "text/html": [
       "<div>\n",
       "<style scoped>\n",
       "    .dataframe tbody tr th:only-of-type {\n",
       "        vertical-align: middle;\n",
       "    }\n",
       "\n",
       "    .dataframe tbody tr th {\n",
       "        vertical-align: top;\n",
       "    }\n",
       "\n",
       "    .dataframe thead th {\n",
       "        text-align: right;\n",
       "    }\n",
       "</style>\n",
       "<table border=\"1\" class=\"dataframe\">\n",
       "  <thead>\n",
       "    <tr style=\"text-align: right;\">\n",
       "      <th></th>\n",
       "      <th>productId</th>\n",
       "      <th>distinctCustomers</th>\n",
       "    </tr>\n",
       "  </thead>\n",
       "  <tbody>\n",
       "    <tr>\n",
       "      <th>0</th>\n",
       "      <td>0</td>\n",
       "      <td>2</td>\n",
       "    </tr>\n",
       "    <tr>\n",
       "      <th>1</th>\n",
       "      <td>3</td>\n",
       "      <td>4</td>\n",
       "    </tr>\n",
       "    <tr>\n",
       "      <th>2</th>\n",
       "      <td>5</td>\n",
       "      <td>2</td>\n",
       "    </tr>\n",
       "    <tr>\n",
       "      <th>3</th>\n",
       "      <td>6</td>\n",
       "      <td>2</td>\n",
       "    </tr>\n",
       "    <tr>\n",
       "      <th>4</th>\n",
       "      <td>7</td>\n",
       "      <td>4</td>\n",
       "    </tr>\n",
       "  </tbody>\n",
       "</table>\n",
       "</div>"
      ],
      "text/plain": [
       "   productId  distinctCustomers\n",
       "0          0                  2\n",
       "1          3                  4\n",
       "2          5                  2\n",
       "3          6                  2\n",
       "4          7                  4"
      ]
     },
     "execution_count": 24,
     "metadata": {},
     "output_type": "execute_result"
    }
   ],
   "source": [
    "Q_D4 = \"SELECT productId, COUNT(DISTINCT(customerId)) AS distinctCustomers FROM orders GROUP BY productId HAVING distinctCustomers >= 2\"\n",
    "\n",
    "R_D4 = db.execute_query(query=Q_D4, return_df=True, exercise=\"D4\")\n",
    "R_D4"
   ]
  },
  {
   "cell_type": "markdown",
   "metadata": {},
   "source": [
    "<hr>\n",
    "<h3> E. Writing complex (multi-table) queries </h3>\n",
    "<p>\n",
    "To enable the full extend of the capabilities of the SQL language, the <b>JOIN</b> operator will be introduced. <br>\n",
    "JOIN allows you to query data from multiple tables, which enables you to write complex multi-table queries. <br>\n",
    "Within this module you will be asked to use both the <b>basic</b> and <b>Calculation</b> operators combined with <b>JOIN</b>. <br>\n",
    "<br>\n",
    "\n",
    "Besides the <b>JOIN</b> operator, it is also possible to include other information using <b>sub-queries</b>. <br>\n",
    "<b>Sub-queries</b> allows you to use the results of a sub-query in a conditional statement for another query. <br>\n",
    "Such queries can for example be used to retrieve all information of customers that placed at least one order with a quantity larger than 3. <br>\n",
    "This information can be retrieved using the query: <br>\n",
    "<code> SELECT * FROM customers WHERE customers.id IN (SELECT customerId FROM orders WHERE quantity > 3) </code>. <br>\n",
    "<br>\n",
    "\n",
    "The queries you will have to write will be formulated as requests from different departments. <br>\n",
    "If you will be working with databases in the future, you will be faced with such query requests. <br>\n",
    "Write the following queries:\n",
    "<ol>\n",
    "    <li> Sales wants to analyse the number of products that are ordered 3 or more times, retrieve only the product names. <br>\n",
    "    <li> The marketing department asks for all first and last names of customers who ordered a \"Desk\" in the past. </li>\n",
    "    <li> Upper management wants to gain insight in consumer behavior. Calculate the total spend per customer and display the first and last name together with the total spend in ascending order based on total spend. </li>\n",
    "    <li> For our customer loyalty program we want to retrieve a list of first and last names of customers that made at least 2 orders in the past with an average order value above 250 euros. <br>\n",
    "</ol>\n",
    "</p>"
   ]
  },
  {
   "cell_type": "code",
   "execution_count": 25,
   "metadata": {},
   "outputs": [
    {
     "data": {
      "text/html": [
       "<div>\n",
       "<style scoped>\n",
       "    .dataframe tbody tr th:only-of-type {\n",
       "        vertical-align: middle;\n",
       "    }\n",
       "\n",
       "    .dataframe tbody tr th {\n",
       "        vertical-align: top;\n",
       "    }\n",
       "\n",
       "    .dataframe thead th {\n",
       "        text-align: right;\n",
       "    }\n",
       "</style>\n",
       "<table border=\"1\" class=\"dataframe\">\n",
       "  <thead>\n",
       "    <tr style=\"text-align: right;\">\n",
       "      <th></th>\n",
       "      <th>name</th>\n",
       "      <th>NumberOfOrders</th>\n",
       "    </tr>\n",
       "    <tr>\n",
       "      <th>id</th>\n",
       "      <th></th>\n",
       "      <th></th>\n",
       "    </tr>\n",
       "  </thead>\n",
       "  <tbody>\n",
       "    <tr>\n",
       "      <th>7</th>\n",
       "      <td>Black toners (2pcs.)</td>\n",
       "      <td>4</td>\n",
       "    </tr>\n",
       "    <tr>\n",
       "      <th>5</th>\n",
       "      <td>Computer mouse</td>\n",
       "      <td>3</td>\n",
       "    </tr>\n",
       "    <tr>\n",
       "      <th>0</th>\n",
       "      <td>Copying paper (500 pcs.)</td>\n",
       "      <td>4</td>\n",
       "    </tr>\n",
       "    <tr>\n",
       "      <th>3</th>\n",
       "      <td>Desk</td>\n",
       "      <td>4</td>\n",
       "    </tr>\n",
       "  </tbody>\n",
       "</table>\n",
       "</div>"
      ],
      "text/plain": [
       "                        name  NumberOfOrders\n",
       "id                                          \n",
       "7       Black toners (2pcs.)               4\n",
       "5             Computer mouse               3\n",
       "0   Copying paper (500 pcs.)               4\n",
       "3                       Desk               4"
      ]
     },
     "execution_count": 25,
     "metadata": {},
     "output_type": "execute_result"
    }
   ],
   "source": [
    "Q_E1 = \"\"\"\n",
    "    SELECT products.id, products.name, COUNT(orders.id) AS NumberOfOrders\n",
    "    FROM products\n",
    "    INNER JOIN orders ON products.id = orders.productId \n",
    "    GROUP BY products.name\n",
    "    HAVING NumberOfOrders >= 3;\n",
    "    \"\"\"\n",
    "\n",
    "R_E1 = db.execute_query(query=Q_E1, return_df=True, exercise=\"E1\")\n",
    "R_E1"
   ]
  },
  {
   "cell_type": "code",
   "execution_count": 26,
   "metadata": {},
   "outputs": [
    {
     "data": {
      "text/html": [
       "<div>\n",
       "<style scoped>\n",
       "    .dataframe tbody tr th:only-of-type {\n",
       "        vertical-align: middle;\n",
       "    }\n",
       "\n",
       "    .dataframe tbody tr th {\n",
       "        vertical-align: top;\n",
       "    }\n",
       "\n",
       "    .dataframe thead th {\n",
       "        text-align: right;\n",
       "    }\n",
       "</style>\n",
       "<table border=\"1\" class=\"dataframe\">\n",
       "  <thead>\n",
       "    <tr style=\"text-align: right;\">\n",
       "      <th></th>\n",
       "      <th>firstName</th>\n",
       "      <th>lastName</th>\n",
       "    </tr>\n",
       "  </thead>\n",
       "  <tbody>\n",
       "    <tr>\n",
       "      <th>0</th>\n",
       "      <td>John</td>\n",
       "      <td>Doe</td>\n",
       "    </tr>\n",
       "    <tr>\n",
       "      <th>1</th>\n",
       "      <td>Ashton</td>\n",
       "      <td>Cole</td>\n",
       "    </tr>\n",
       "    <tr>\n",
       "      <th>2</th>\n",
       "      <td>Raylee</td>\n",
       "      <td>Diaz</td>\n",
       "    </tr>\n",
       "    <tr>\n",
       "      <th>3</th>\n",
       "      <td>Cameron</td>\n",
       "      <td>Taylor</td>\n",
       "    </tr>\n",
       "  </tbody>\n",
       "</table>\n",
       "</div>"
      ],
      "text/plain": [
       "  firstName lastName\n",
       "0      John      Doe\n",
       "1    Ashton     Cole\n",
       "2    Raylee     Diaz\n",
       "3   Cameron   Taylor"
      ]
     },
     "execution_count": 26,
     "metadata": {},
     "output_type": "execute_result"
    }
   ],
   "source": [
    "Q_E2 = \"\"\"\n",
    "    SELECT customers.firstName, customers.lastName\n",
    "    FROM customers\n",
    "    WHERE customers.id IN (\n",
    "        SELECT orders.customerId \n",
    "        FROM orders \n",
    "        INNER JOIN products ON products.id = orders.productId\n",
    "        WHERE products.name = 'Desk'\n",
    "    )\n",
    "    \"\"\"\n",
    "\n",
    "R_E2 = db.execute_query(query=Q_E2, return_df=True, exercise=\"E2\")\n",
    "R_E2"
   ]
  },
  {
   "cell_type": "code",
   "execution_count": 27,
   "metadata": {},
   "outputs": [
    {
     "data": {
      "text/html": [
       "<div>\n",
       "<style scoped>\n",
       "    .dataframe tbody tr th:only-of-type {\n",
       "        vertical-align: middle;\n",
       "    }\n",
       "\n",
       "    .dataframe tbody tr th {\n",
       "        vertical-align: top;\n",
       "    }\n",
       "\n",
       "    .dataframe thead th {\n",
       "        text-align: right;\n",
       "    }\n",
       "</style>\n",
       "<table border=\"1\" class=\"dataframe\">\n",
       "  <thead>\n",
       "    <tr style=\"text-align: right;\">\n",
       "      <th></th>\n",
       "      <th>firstName</th>\n",
       "      <th>lastName</th>\n",
       "      <th>totalSpend</th>\n",
       "    </tr>\n",
       "  </thead>\n",
       "  <tbody>\n",
       "    <tr>\n",
       "      <th>0</th>\n",
       "      <td>Cameron</td>\n",
       "      <td>Taylor</td>\n",
       "      <td>1996.50</td>\n",
       "    </tr>\n",
       "    <tr>\n",
       "      <th>1</th>\n",
       "      <td>John</td>\n",
       "      <td>Doe</td>\n",
       "      <td>1529.94</td>\n",
       "    </tr>\n",
       "    <tr>\n",
       "      <th>2</th>\n",
       "      <td>Shay</td>\n",
       "      <td>Hyde</td>\n",
       "      <td>835.86</td>\n",
       "    </tr>\n",
       "    <tr>\n",
       "      <th>3</th>\n",
       "      <td>Ashton</td>\n",
       "      <td>Cole</td>\n",
       "      <td>454.74</td>\n",
       "    </tr>\n",
       "    <tr>\n",
       "      <th>4</th>\n",
       "      <td>Arthur</td>\n",
       "      <td>Holmes</td>\n",
       "      <td>328.80</td>\n",
       "    </tr>\n",
       "    <tr>\n",
       "      <th>5</th>\n",
       "      <td>Raylee</td>\n",
       "      <td>Diaz</td>\n",
       "      <td>325.79</td>\n",
       "    </tr>\n",
       "    <tr>\n",
       "      <th>6</th>\n",
       "      <td>Jamie</td>\n",
       "      <td>Dean</td>\n",
       "      <td>239.70</td>\n",
       "    </tr>\n",
       "    <tr>\n",
       "      <th>7</th>\n",
       "      <td>Vicente</td>\n",
       "      <td>Bryant</td>\n",
       "      <td>152.91</td>\n",
       "    </tr>\n",
       "    <tr>\n",
       "      <th>8</th>\n",
       "      <td>Reed</td>\n",
       "      <td>Nixon</td>\n",
       "      <td>33.98</td>\n",
       "    </tr>\n",
       "    <tr>\n",
       "      <th>9</th>\n",
       "      <td>Axton</td>\n",
       "      <td>Rogers</td>\n",
       "      <td>19.80</td>\n",
       "    </tr>\n",
       "  </tbody>\n",
       "</table>\n",
       "</div>"
      ],
      "text/plain": [
       "  firstName lastName  totalSpend\n",
       "0   Cameron   Taylor     1996.50\n",
       "1      John      Doe     1529.94\n",
       "2      Shay     Hyde      835.86\n",
       "3    Ashton     Cole      454.74\n",
       "4    Arthur   Holmes      328.80\n",
       "5    Raylee     Diaz      325.79\n",
       "6     Jamie     Dean      239.70\n",
       "7   Vicente   Bryant      152.91\n",
       "8      Reed    Nixon       33.98\n",
       "9     Axton   Rogers       19.80"
      ]
     },
     "execution_count": 27,
     "metadata": {},
     "output_type": "execute_result"
    }
   ],
   "source": [
    "Q_E3 = \"\"\"\n",
    "    SELECT customers.firstName, customers.lastName, SUM(orders.quantity * products.price) AS totalSpend\n",
    "    FROM customers\n",
    "    INNER JOIN orders ON orders.customerId = customers.id\n",
    "    INNER JOIN products ON products.id = orders.productId\n",
    "    GROUP BY customers.id\n",
    "    ORDER BY totalSpend DESC\n",
    "    \"\"\"\n",
    "\n",
    "R_E3 = db.execute_query(query=Q_E3, return_df=True, exercise=\"E3\")\n",
    "R_E3"
   ]
  },
  {
   "cell_type": "code",
   "execution_count": 28,
   "metadata": {},
   "outputs": [
    {
     "data": {
      "text/html": [
       "<div>\n",
       "<style scoped>\n",
       "    .dataframe tbody tr th:only-of-type {\n",
       "        vertical-align: middle;\n",
       "    }\n",
       "\n",
       "    .dataframe tbody tr th {\n",
       "        vertical-align: top;\n",
       "    }\n",
       "\n",
       "    .dataframe thead th {\n",
       "        text-align: right;\n",
       "    }\n",
       "</style>\n",
       "<table border=\"1\" class=\"dataframe\">\n",
       "  <thead>\n",
       "    <tr style=\"text-align: right;\">\n",
       "      <th></th>\n",
       "      <th>firstName</th>\n",
       "      <th>lastName</th>\n",
       "    </tr>\n",
       "  </thead>\n",
       "  <tbody>\n",
       "    <tr>\n",
       "      <th>0</th>\n",
       "      <td>John</td>\n",
       "      <td>Doe</td>\n",
       "    </tr>\n",
       "    <tr>\n",
       "      <th>1</th>\n",
       "      <td>Shay</td>\n",
       "      <td>Hyde</td>\n",
       "    </tr>\n",
       "    <tr>\n",
       "      <th>2</th>\n",
       "      <td>Cameron</td>\n",
       "      <td>Taylor</td>\n",
       "    </tr>\n",
       "  </tbody>\n",
       "</table>\n",
       "</div>"
      ],
      "text/plain": [
       "  firstName lastName\n",
       "0      John      Doe\n",
       "1      Shay     Hyde\n",
       "2   Cameron   Taylor"
      ]
     },
     "execution_count": 28,
     "metadata": {},
     "output_type": "execute_result"
    }
   ],
   "source": [
    "Q_E4 = \"\"\"\n",
    "    SELECT customers.firstName, customers.lastName\n",
    "    FROM customers\n",
    "    WHERE customers.Id IN (\n",
    "        SELECT orders.customerId\n",
    "        FROM orders\n",
    "        INNER JOIN products ON orders.productId = products.Id\n",
    "        GROUP BY orders.customerId\n",
    "        HAVING AVG(orders.quantity * products.price) > 250\n",
    "    );\n",
    "    \"\"\"\n",
    "\n",
    "R_E4 = db.execute_query(query=Q_E4, return_df=True, exercise=\"E4\")\n",
    "R_E4"
   ]
  },
  {
   "cell_type": "markdown",
   "metadata": {},
   "source": [
    "<h1> Congratulations!! </h1>\n",
    "<p>\n",
    "You completed all modules and created all queries that are requested! <br>\n",
    "Through running other queries you are able to validate whether the queries you have written are correct. <br>\n",
    "However, to have a final check, we build in a mechanism that will check whether your queries show the desired, requested behavior. <br>\n",
    "To kick off these tests, you only have to push this directory to the main Git branch. <br>\n",
    "This can be done using the following steps:\n",
    "<ol>\n",
    "    <li> Open the command prompt in VS Code by pressing <b>CTRL</b> + <b>`</b>. </li>\n",
    "    <li> Write the command <code>git status</code> to check which differences there are between your current and the master branch. </li>\n",
    "    <li> Write the command <code>git add Modules/M3_SQL/</code> to add the main notebook to the staging lane. </li>\n",
    "    <li> Write the command <code>git commit -m \"<i>[INSERT COMMIT MESSAGE]</i>\"</code> to commit the staged changes and adding a descriptive commit message. </li>\n",
    "    <li> Finally, write the command <code>git push</code> to push the staged changes to the master branch. </li>\n",
    "    <li> Upon pushing the changes, the PyTest modules will be run to check your answers, for which an overview is generated in your Github </li>\n",
    "</ol>\n",
    "If you pass all tests, feel free to continue to our next module, <b>Module 2: Machine Learning (ML)</b>.\n",
    "</p>"
   ]
  }
 ],
 "metadata": {
  "kernelspec": {
   "display_name": "Python 3.10.4 ('venv': venv)",
   "language": "python",
   "name": "python3"
  },
  "language_info": {
   "codemirror_mode": {
    "name": "ipython",
    "version": 3
   },
   "file_extension": ".py",
   "mimetype": "text/x-python",
   "name": "python",
   "nbconvert_exporter": "python",
   "pygments_lexer": "ipython3",
   "version": "3.10.4"
  },
  "orig_nbformat": 4,
  "vscode": {
   "interpreter": {
    "hash": "8cdb90a6d2f7684ad8082e90bd78c5d7d83594e89c8b508cbb7ab5eaa7811b86"
   }
  }
 },
 "nbformat": 4,
 "nbformat_minor": 2
}
